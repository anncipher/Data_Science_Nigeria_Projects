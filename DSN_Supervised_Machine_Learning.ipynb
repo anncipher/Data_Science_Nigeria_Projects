{
  "cells": [
    {
      "cell_type": "markdown",
      "metadata": {
        "id": "view-in-github",
        "colab_type": "text"
      },
      "source": [
        "<a href=\"https://colab.research.google.com/github/anncipher/Data_Science_Nigeria_Projects/blob/main/DSN_Supervised_Machine_Learning.ipynb\" target=\"_parent\"><img src=\"https://colab.research.google.com/assets/colab-badge.svg\" alt=\"Open In Colab\"/></a>"
      ]
    },
    {
      "cell_type": "code",
      "execution_count": null,
      "id": "5c2fc5ef",
      "metadata": {
        "id": "5c2fc5ef"
      },
      "outputs": [],
      "source": [
        "# Importing the libraries\n",
        "\n",
        "import numpy as np\n",
        "import matplotlib.pyplot as plt\n",
        "import pandas as pd"
      ]
    },
    {
      "cell_type": "markdown",
      "id": "0942ea3a",
      "metadata": {
        "id": "0942ea3a"
      },
      "source": [
        "# Creating a dataset for linear regression task\n"
      ]
    },
    {
      "cell_type": "code",
      "execution_count": null,
      "id": "62d54220",
      "metadata": {
        "id": "62d54220",
        "outputId": "ecad9042-9721-4536-b0ca-9a8f4d1097cf"
      },
      "outputs": [
        {
          "data": {
            "text/plain": [
              "[[-1, -1], [1, 2], [2, 3], [4, 3], [6, 5], [7, 8]]"
            ]
          },
          "execution_count": 11,
          "metadata": {},
          "output_type": "execute_result"
        }
      ],
      "source": [
        "# Creating a list with 5 rows, 2 columns\n",
        "\n",
        "data = [[-1,-1], [1,2], [2,3], [4,3], [6,5], [7,8]]\n",
        "data\n"
      ]
    },
    {
      "cell_type": "code",
      "execution_count": null,
      "id": "3a538c1f",
      "metadata": {
        "id": "3a538c1f",
        "outputId": "4dd08ef2-a9b8-41ec-dde5-6f93ba65ffc9"
      },
      "outputs": [
        {
          "name": "stdout",
          "output_type": "stream",
          "text": [
            "   X  y\n",
            "0 -1 -1\n",
            "1  1  2\n",
            "2  2  3\n",
            "3  4  3\n",
            "4  6  5\n",
            "5  7  8\n",
            "Datatype of X and Y: <class 'pandas.core.frame.DataFrame'>\n"
          ]
        }
      ],
      "source": [
        "# Since input data to our model must be an N Dimensional Array, the list above must be represented as an Array\n",
        "\n",
        "# Create the pandas DataFrame with the list and add column headers\n",
        "\n",
        "dataset = pd.DataFrame(data, columns = ['X', 'y'])\n",
        "print(dataset)\n",
        "print('Datatype of X and Y:', type(dataset))"
      ]
    },
    {
      "cell_type": "code",
      "execution_count": null,
      "id": "6068b521",
      "metadata": {
        "id": "6068b521",
        "outputId": "c26e163b-e152-4987-8ebb-777ae92b386d"
      },
      "outputs": [
        {
          "name": "stdout",
          "output_type": "stream",
          "text": [
            "\n",
            " Input Feature X =  [[-1]\n",
            " [ 1]\n",
            " [ 2]\n",
            " [ 4]\n",
            " [ 6]\n",
            " [ 7]] \n",
            " The shape of X =  (6, 1) \n",
            " Output (Y) =  [-1  2  3  3  5  8] \n",
            " Shape of y =  (6,)\n",
            "Datatype of X and Y:  <class 'numpy.ndarray'> <class 'numpy.ndarray'>\n"
          ]
        }
      ],
      "source": [
        "# Split the dataset into input (feature X) and output (target y) from pandas DataFrame named dataset\n",
        "\n",
        "X = dataset.iloc[:, :-1].values # All rows, all columns excluding the last column indexed -1\n",
        "y = dataset.iloc[:, 1].values # All rows, column 1\n",
        "\n",
        "print('\\n Input Feature X = ', X, '\\n The shape of X = ', X.shape, '\\n Output (Y) = ', y, '\\n Shape of y = ', y.shape)\n",
        "print('Datatype of X and Y: ', type(X), type(y))"
      ]
    },
    {
      "cell_type": "markdown",
      "id": "7edc90ca",
      "metadata": {
        "id": "7edc90ca"
      },
      "source": [
        "# Given that X (an independent variable) is a predictor of y (dependent variable)\n",
        "\n",
        "# 1. What linear regression equation best estimates y based on X?\n",
        "# MODEL TRAINING"
      ]
    },
    {
      "cell_type": "code",
      "execution_count": null,
      "id": "995fca48",
      "metadata": {
        "id": "995fca48",
        "outputId": "c1727ce0-ee9a-4658-9e61-1d733137c452"
      },
      "outputs": [
        {
          "data": {
            "text/html": [
              "<style>#sk-container-id-1 {color: black;}#sk-container-id-1 pre{padding: 0;}#sk-container-id-1 div.sk-toggleable {background-color: white;}#sk-container-id-1 label.sk-toggleable__label {cursor: pointer;display: block;width: 100%;margin-bottom: 0;padding: 0.3em;box-sizing: border-box;text-align: center;}#sk-container-id-1 label.sk-toggleable__label-arrow:before {content: \"▸\";float: left;margin-right: 0.25em;color: #696969;}#sk-container-id-1 label.sk-toggleable__label-arrow:hover:before {color: black;}#sk-container-id-1 div.sk-estimator:hover label.sk-toggleable__label-arrow:before {color: black;}#sk-container-id-1 div.sk-toggleable__content {max-height: 0;max-width: 0;overflow: hidden;text-align: left;background-color: #f0f8ff;}#sk-container-id-1 div.sk-toggleable__content pre {margin: 0.2em;color: black;border-radius: 0.25em;background-color: #f0f8ff;}#sk-container-id-1 input.sk-toggleable__control:checked~div.sk-toggleable__content {max-height: 200px;max-width: 100%;overflow: auto;}#sk-container-id-1 input.sk-toggleable__control:checked~label.sk-toggleable__label-arrow:before {content: \"▾\";}#sk-container-id-1 div.sk-estimator input.sk-toggleable__control:checked~label.sk-toggleable__label {background-color: #d4ebff;}#sk-container-id-1 div.sk-label input.sk-toggleable__control:checked~label.sk-toggleable__label {background-color: #d4ebff;}#sk-container-id-1 input.sk-hidden--visually {border: 0;clip: rect(1px 1px 1px 1px);clip: rect(1px, 1px, 1px, 1px);height: 1px;margin: -1px;overflow: hidden;padding: 0;position: absolute;width: 1px;}#sk-container-id-1 div.sk-estimator {font-family: monospace;background-color: #f0f8ff;border: 1px dotted black;border-radius: 0.25em;box-sizing: border-box;margin-bottom: 0.5em;}#sk-container-id-1 div.sk-estimator:hover {background-color: #d4ebff;}#sk-container-id-1 div.sk-parallel-item::after {content: \"\";width: 100%;border-bottom: 1px solid gray;flex-grow: 1;}#sk-container-id-1 div.sk-label:hover label.sk-toggleable__label {background-color: #d4ebff;}#sk-container-id-1 div.sk-serial::before {content: \"\";position: absolute;border-left: 1px solid gray;box-sizing: border-box;top: 0;bottom: 0;left: 50%;z-index: 0;}#sk-container-id-1 div.sk-serial {display: flex;flex-direction: column;align-items: center;background-color: white;padding-right: 0.2em;padding-left: 0.2em;position: relative;}#sk-container-id-1 div.sk-item {position: relative;z-index: 1;}#sk-container-id-1 div.sk-parallel {display: flex;align-items: stretch;justify-content: center;background-color: white;position: relative;}#sk-container-id-1 div.sk-item::before, #sk-container-id-1 div.sk-parallel-item::before {content: \"\";position: absolute;border-left: 1px solid gray;box-sizing: border-box;top: 0;bottom: 0;left: 50%;z-index: -1;}#sk-container-id-1 div.sk-parallel-item {display: flex;flex-direction: column;z-index: 1;position: relative;background-color: white;}#sk-container-id-1 div.sk-parallel-item:first-child::after {align-self: flex-end;width: 50%;}#sk-container-id-1 div.sk-parallel-item:last-child::after {align-self: flex-start;width: 50%;}#sk-container-id-1 div.sk-parallel-item:only-child::after {width: 0;}#sk-container-id-1 div.sk-dashed-wrapped {border: 1px dashed gray;margin: 0 0.4em 0.5em 0.4em;box-sizing: border-box;padding-bottom: 0.4em;background-color: white;}#sk-container-id-1 div.sk-label label {font-family: monospace;font-weight: bold;display: inline-block;line-height: 1.2em;}#sk-container-id-1 div.sk-label-container {text-align: center;}#sk-container-id-1 div.sk-container {/* jupyter's `normalize.less` sets `[hidden] { display: none; }` but bootstrap.min.css set `[hidden] { display: none !important; }` so we also need the `!important` here to be able to override the default hidden behavior on the sphinx rendered scikit-learn.org. See: https://github.com/scikit-learn/scikit-learn/issues/21755 */display: inline-block !important;position: relative;}#sk-container-id-1 div.sk-text-repr-fallback {display: none;}</style><div id=\"sk-container-id-1\" class=\"sk-top-container\"><div class=\"sk-text-repr-fallback\"><pre>LinearRegression()</pre><b>In a Jupyter environment, please rerun this cell to show the HTML representation or trust the notebook. <br />On GitHub, the HTML representation is unable to render, please try loading this page with nbviewer.org.</b></div><div class=\"sk-container\" hidden><div class=\"sk-item\"><div class=\"sk-estimator sk-toggleable\"><input class=\"sk-toggleable__control sk-hidden--visually\" id=\"sk-estimator-id-1\" type=\"checkbox\" checked><label for=\"sk-estimator-id-1\" class=\"sk-toggleable__label sk-toggleable__label-arrow\">LinearRegression</label><div class=\"sk-toggleable__content\"><pre>LinearRegression()</pre></div></div></div></div></div>"
            ],
            "text/plain": [
              "LinearRegression()"
            ]
          },
          "execution_count": 16,
          "metadata": {},
          "output_type": "execute_result"
        }
      ],
      "source": [
        "# Fitting Simple Linear Regression to the Dataset\n",
        "\n",
        "from sklearn.linear_model import LinearRegression\n",
        "regressor = LinearRegression()\n",
        "regressor.fit(X,y)"
      ]
    },
    {
      "cell_type": "code",
      "execution_count": null,
      "id": "df1e776b",
      "metadata": {
        "id": "df1e776b",
        "outputId": "9ee2f5fe-41b0-4fe7-ed23-05c5a856547d"
      },
      "outputs": [
        {
          "data": {
            "text/plain": [
              "0.8981055055474146"
            ]
          },
          "execution_count": 18,
          "metadata": {},
          "output_type": "execute_result"
        }
      ],
      "source": [
        "regressor.score(X,y)"
      ]
    },
    {
      "cell_type": "code",
      "execution_count": null,
      "id": "62f80713",
      "metadata": {
        "id": "62f80713",
        "outputId": "ef34de18-16b4-4567-bf83-54a32b125e66"
      },
      "outputs": [
        {
          "name": "stdout",
          "output_type": "stream",
          "text": [
            "0.38078291814946663\n"
          ]
        }
      ],
      "source": [
        "# Intercept b0\n",
        "\n",
        "print(regressor.intercept_)"
      ]
    },
    {
      "cell_type": "code",
      "execution_count": null,
      "id": "f5f3e12c",
      "metadata": {
        "id": "f5f3e12c",
        "outputId": "9de765fb-71dc-498a-c535-62bc5304f5d1"
      },
      "outputs": [
        {
          "data": {
            "text/plain": [
              "array([0.93238434])"
            ]
          },
          "execution_count": 22,
          "metadata": {},
          "output_type": "execute_result"
        }
      ],
      "source": [
        "# Coefficient or slope of regression\n",
        "\n",
        "regressor.coef_"
      ]
    },
    {
      "cell_type": "code",
      "execution_count": null,
      "id": "4e9e5f0a",
      "metadata": {
        "id": "4e9e5f0a",
        "outputId": "15932b4f-c75d-44ed-e9cc-2d0a7de74be2"
      },
      "outputs": [
        {
          "name": "stdout",
          "output_type": "stream",
          "text": [
            "          X         y\n",
            "X  1.000000  0.947684\n",
            "y  0.947684  1.000000\n"
          ]
        }
      ],
      "source": [
        "# To check correlation between variables\n",
        "\n",
        "cor = dataset.corr()\n",
        "print(cor)"
      ]
    },
    {
      "cell_type": "markdown",
      "id": "3f18f4fc",
      "metadata": {
        "id": "3f18f4fc"
      },
      "source": [
        "# 2. What new values of y will the linear regression equation suggest in line with the previous data X?\n",
        "# MODEL TESTING"
      ]
    },
    {
      "cell_type": "code",
      "execution_count": null,
      "id": "e52eed3f",
      "metadata": {
        "id": "e52eed3f"
      },
      "outputs": [],
      "source": [
        "# Predicting the Dataset results an input feature alone\n",
        "\n",
        "y_pred = regressor.predict(X)"
      ]
    },
    {
      "cell_type": "code",
      "execution_count": null,
      "id": "2e458a87",
      "metadata": {
        "id": "2e458a87",
        "outputId": "023dffa4-dbdf-49eb-af21-33ebeb3addf8"
      },
      "outputs": [
        {
          "data": {
            "image/png": "[encoded data removed]",
            "text/plain": [
              "<Figure size 640x480 with 1 Axes>"
            ]
          },
          "metadata": {},
          "output_type": "display_data"
        }
      ],
      "source": [
        "# Visualizing the results\n",
        "\n",
        "plt.scatter(X, y, color = 'red') # Scatterplot of the X on y dataset\n",
        "\n",
        "plt.plot(X, regressor.predict(X), color = 'blue') # line plot of X against predicted Y\n",
        "\n",
        "plt.title('Simple Linear Regression of Predictor vs Dependent Variable')\n",
        "plt.xlabel('X(Predictor)')\n",
        "plt.ylabel('y(Dependent Variable)')\n",
        "plt.show()"
      ]
    },
    {
      "cell_type": "code",
      "execution_count": null,
      "id": "06abff48",
      "metadata": {
        "id": "06abff48",
        "outputId": "55ce2aeb-2b36-4c26-c93c-a71c930fb37d"
      },
      "outputs": [
        {
          "data": {
            "text/html": [
              "<div>\n",
              "<style scoped>\n",
              "    .dataframe tbody tr th:only-of-type {\n",
              "        vertical-align: middle;\n",
              "    }\n",
              "\n",
              "    .dataframe tbody tr th {\n",
              "        vertical-align: top;\n",
              "    }\n",
              "\n",
              "    .dataframe thead th {\n",
              "        text-align: right;\n",
              "    }\n",
              "</style>\n",
              "<table border=\"1\" class=\"dataframe\">\n",
              "  <thead>\n",
              "    <tr style=\"text-align: right;\">\n",
              "      <th></th>\n",
              "      <th>X</th>\n",
              "      <th>y</th>\n",
              "      <th>yhat</th>\n",
              "    </tr>\n",
              "  </thead>\n",
              "  <tbody>\n",
              "    <tr>\n",
              "      <th>0</th>\n",
              "      <td>-1</td>\n",
              "      <td>-1</td>\n",
              "      <td>-0.551601</td>\n",
              "    </tr>\n",
              "    <tr>\n",
              "      <th>1</th>\n",
              "      <td>1</td>\n",
              "      <td>2</td>\n",
              "      <td>1.313167</td>\n",
              "    </tr>\n",
              "    <tr>\n",
              "      <th>2</th>\n",
              "      <td>2</td>\n",
              "      <td>3</td>\n",
              "      <td>2.245552</td>\n",
              "    </tr>\n",
              "    <tr>\n",
              "      <th>3</th>\n",
              "      <td>4</td>\n",
              "      <td>3</td>\n",
              "      <td>4.110320</td>\n",
              "    </tr>\n",
              "    <tr>\n",
              "      <th>4</th>\n",
              "      <td>6</td>\n",
              "      <td>5</td>\n",
              "      <td>5.975089</td>\n",
              "    </tr>\n",
              "    <tr>\n",
              "      <th>5</th>\n",
              "      <td>7</td>\n",
              "      <td>8</td>\n",
              "      <td>6.907473</td>\n",
              "    </tr>\n",
              "  </tbody>\n",
              "</table>\n",
              "</div>"
            ],
            "text/plain": [
              "   X  y      yhat\n",
              "0 -1 -1 -0.551601\n",
              "1  1  2  1.313167\n",
              "2  2  3  2.245552\n",
              "3  4  3  4.110320\n",
              "4  6  5  5.975089\n",
              "5  7  8  6.907473"
            ]
          },
          "execution_count": 50,
          "metadata": {},
          "output_type": "execute_result"
        }
      ],
      "source": [
        "# Adding the result column to the existing dataset table\n",
        "\n",
        "dataset ['yhat'] = y_pred\n",
        "dataset"
      ]
    },
    {
      "cell_type": "code",
      "execution_count": null,
      "id": "40ddaa9e",
      "metadata": {
        "id": "40ddaa9e",
        "outputId": "a260cb12-f063-418d-c25f-da8f2b498240"
      },
      "outputs": [
        {
          "data": {
            "image/png": "[encoded data removed]",
            "text/plain": [
              "<Figure size 1600x1000 with 1 Axes>"
            ]
          },
          "metadata": {},
          "output_type": "display_data"
        }
      ],
      "source": [
        "# A bar plot showing the difference between actual value (y) and predicted value (yhat)\n",
        "\n",
        "dataset[['y','yhat']].plot(kind = 'bar', figsize = (16,10))\n",
        "\n",
        "plt.grid(which = 'major', linestyle = '-', linewidth = '0.5', color = 'green')\n",
        "plt.grid(which = 'minor', linestyle = ':', linewidth = '0.5', color = 'black')\n",
        "plt.show()"
      ]
    },
    {
      "cell_type": "markdown",
      "id": "a42bea8f",
      "metadata": {
        "id": "a42bea8f"
      },
      "source": [
        "# 3. How well does the regression equation fit the data?\n",
        "\n"
      ]
    },
    {
      "cell_type": "code",
      "execution_count": null,
      "id": "bce25ba2",
      "metadata": {
        "id": "bce25ba2"
      },
      "outputs": [],
      "source": [
        "# Slicing out the actual output (y) and predicted output (yhat)\n",
        "\n",
        "result = dataset[['y', 'yhat']]"
      ]
    },
    {
      "cell_type": "code",
      "execution_count": null,
      "id": "ebfd36a2",
      "metadata": {
        "id": "ebfd36a2",
        "outputId": "d0451cc4-bdfd-4996-a072-f0a7c24771c2"
      },
      "outputs": [
        {
          "name": "stdout",
          "output_type": "stream",
          "text": [
            "   y      yhat     error\n",
            "0 -1 -0.551601 -0.448399\n",
            "1  2  1.313167  0.686833\n",
            "2  3  2.245552  0.754448\n",
            "3  3  4.110320 -1.110320\n",
            "4  5  5.975089 -0.975089\n",
            "5  8  6.907473  1.092527\n",
            "\n",
            "5.06761565836299\n",
            "0.8446026097271649\n",
            "0.8774220840859636\n"
          ]
        }
      ],
      "source": [
        "# Creating a column in the result to store mean errors from all observations\n",
        "\n",
        "n = len(dataset)\n",
        "\n",
        "# Error from each prediction\n",
        "\n",
        "result['error'] = dataset['y'].subtract(dataset['yhat'])\n",
        "\n",
        "print(result)\n",
        "\n",
        "# Calculating Root Mean Square error: rsme\n",
        "\n",
        "mse = np.mean((dataset['yhat'] - dataset['y']) ** 2)\n",
        "\n",
        "# Summation of all error function from all predictions\n",
        "\n",
        "cost_function = abs(result['error']).sum()\n",
        "Mean_Absolute_Error = cost_function / n\n",
        "Root_Mean_Squared_Error = np.sqrt(mse)\n",
        "\n",
        "print()\n",
        "print(cost_function)\n",
        "print(Mean_Absolute_Error)\n",
        "print(Root_Mean_Squared_Error)"
      ]
    },
    {
      "cell_type": "markdown",
      "id": "17c11366",
      "metadata": {
        "id": "17c11366"
      },
      "source": [
        "# Using Sklearn Regression Metrics"
      ]
    },
    {
      "cell_type": "code",
      "execution_count": null,
      "id": "7dfe1f8d",
      "metadata": {
        "id": "7dfe1f8d",
        "outputId": "2774faad-9967-41ea-9a43-6867504510b0"
      },
      "outputs": [
        {
          "name": "stdout",
          "output_type": "stream",
          "text": [
            "Mean Absolute Error: 0.8446026097271649\n",
            "Mean Squared Error: 0.7698695136417557\n",
            "Root Mean Squared Error: 0.8774220840859636\n"
          ]
        }
      ],
      "source": [
        "from sklearn import metrics\n",
        "\n",
        "print('Mean Absolute Error:', metrics.mean_absolute_error(y, y_pred))\n",
        "print('Mean Squared Error:', metrics.mean_squared_error(y, y_pred))\n",
        "print('Root Mean Squared Error:', np.sqrt(metrics.mean_squared_error(y, y_pred)))"
      ]
    },
    {
      "cell_type": "markdown",
      "id": "15a5f88e",
      "metadata": {
        "id": "15a5f88e"
      },
      "source": [
        "# CONCLUSION"
      ]
    },
    {
      "cell_type": "markdown",
      "id": "53b3bf22",
      "metadata": {
        "id": "53b3bf22"
      },
      "source": [
        "The disparity between the actual y and predicted yhat shows that the algorithm is not very accurate.\n",
        "\n",
        "## Factors\n",
        "- Relatively small data\n",
        "- Bad assumptions: Visualization may help\n",
        "- Poor feature: The feature (X) may not have had a high enough correlation to the value (y) we were trying to predict."
      ]
    },
    {
      "cell_type": "code",
      "execution_count": null,
      "id": "90d05560",
      "metadata": {
        "id": "90d05560",
        "outputId": "252bbfc1-8d59-41ed-c1be-4d21d66de3d6"
      },
      "outputs": [
        {
          "data": {
            "image/png": "[encoded data removed]",
            "text/plain": [
              "<Figure size 640x480 with 1 Axes>"
            ]
          },
          "metadata": {},
          "output_type": "display_data"
        }
      ],
      "source": [
        "# visualizing the data on scatter plot\n",
        "\n",
        "plt.scatter(X,y)\n",
        "plt.show()"
      ]
    },
    {
      "cell_type": "markdown",
      "id": "96fcd242",
      "metadata": {
        "id": "96fcd242"
      },
      "source": [
        "In this case, Polynomial regression can be used. This is a form of regression analysis in which the relationship between the independent variable x and the dependent variable y is modelled as an nth degree polynomial in x."
      ]
    },
    {
      "cell_type": "code",
      "execution_count": null,
      "id": "1a5ce488",
      "metadata": {
        "id": "1a5ce488"
      },
      "outputs": [],
      "source": [
        "# importing Polynomial Feature class from Sklearn\n",
        "\n",
        "from sklearn.preprocessing import PolynomialFeatures\n",
        "poly_reg = PolynomialFeatures(degree = 4) # Degree depicts the curves\n",
        "X_poly = poly_reg.fit_transform(X)\n",
        "\n",
        "# poly_reg.fit(X_poly,y) # Transform X as polynomial feature"
      ]
    },
    {
      "cell_type": "code",
      "execution_count": null,
      "id": "81122d72",
      "metadata": {
        "id": "81122d72",
        "outputId": "a8c25a57-133d-4ecb-ea14-092a1affb1fe"
      },
      "outputs": [
        {
          "data": {
            "text/html": [
              "<style>#sk-container-id-2 {color: black;}#sk-container-id-2 pre{padding: 0;}#sk-container-id-2 div.sk-toggleable {background-color: white;}#sk-container-id-2 label.sk-toggleable__label {cursor: pointer;display: block;width: 100%;margin-bottom: 0;padding: 0.3em;box-sizing: border-box;text-align: center;}#sk-container-id-2 label.sk-toggleable__label-arrow:before {content: \"▸\";float: left;margin-right: 0.25em;color: #696969;}#sk-container-id-2 label.sk-toggleable__label-arrow:hover:before {color: black;}#sk-container-id-2 div.sk-estimator:hover label.sk-toggleable__label-arrow:before {color: black;}#sk-container-id-2 div.sk-toggleable__content {max-height: 0;max-width: 0;overflow: hidden;text-align: left;background-color: #f0f8ff;}#sk-container-id-2 div.sk-toggleable__content pre {margin: 0.2em;color: black;border-radius: 0.25em;background-color: #f0f8ff;}#sk-container-id-2 input.sk-toggleable__control:checked~div.sk-toggleable__content {max-height: 200px;max-width: 100%;overflow: auto;}#sk-container-id-2 input.sk-toggleable__control:checked~label.sk-toggleable__label-arrow:before {content: \"▾\";}#sk-container-id-2 div.sk-estimator input.sk-toggleable__control:checked~label.sk-toggleable__label {background-color: #d4ebff;}#sk-container-id-2 div.sk-label input.sk-toggleable__control:checked~label.sk-toggleable__label {background-color: #d4ebff;}#sk-container-id-2 input.sk-hidden--visually {border: 0;clip: rect(1px 1px 1px 1px);clip: rect(1px, 1px, 1px, 1px);height: 1px;margin: -1px;overflow: hidden;padding: 0;position: absolute;width: 1px;}#sk-container-id-2 div.sk-estimator {font-family: monospace;background-color: #f0f8ff;border: 1px dotted black;border-radius: 0.25em;box-sizing: border-box;margin-bottom: 0.5em;}#sk-container-id-2 div.sk-estimator:hover {background-color: #d4ebff;}#sk-container-id-2 div.sk-parallel-item::after {content: \"\";width: 100%;border-bottom: 1px solid gray;flex-grow: 1;}#sk-container-id-2 div.sk-label:hover label.sk-toggleable__label {background-color: #d4ebff;}#sk-container-id-2 div.sk-serial::before {content: \"\";position: absolute;border-left: 1px solid gray;box-sizing: border-box;top: 0;bottom: 0;left: 50%;z-index: 0;}#sk-container-id-2 div.sk-serial {display: flex;flex-direction: column;align-items: center;background-color: white;padding-right: 0.2em;padding-left: 0.2em;position: relative;}#sk-container-id-2 div.sk-item {position: relative;z-index: 1;}#sk-container-id-2 div.sk-parallel {display: flex;align-items: stretch;justify-content: center;background-color: white;position: relative;}#sk-container-id-2 div.sk-item::before, #sk-container-id-2 div.sk-parallel-item::before {content: \"\";position: absolute;border-left: 1px solid gray;box-sizing: border-box;top: 0;bottom: 0;left: 50%;z-index: -1;}#sk-container-id-2 div.sk-parallel-item {display: flex;flex-direction: column;z-index: 1;position: relative;background-color: white;}#sk-container-id-2 div.sk-parallel-item:first-child::after {align-self: flex-end;width: 50%;}#sk-container-id-2 div.sk-parallel-item:last-child::after {align-self: flex-start;width: 50%;}#sk-container-id-2 div.sk-parallel-item:only-child::after {width: 0;}#sk-container-id-2 div.sk-dashed-wrapped {border: 1px dashed gray;margin: 0 0.4em 0.5em 0.4em;box-sizing: border-box;padding-bottom: 0.4em;background-color: white;}#sk-container-id-2 div.sk-label label {font-family: monospace;font-weight: bold;display: inline-block;line-height: 1.2em;}#sk-container-id-2 div.sk-label-container {text-align: center;}#sk-container-id-2 div.sk-container {/* jupyter's `normalize.less` sets `[hidden] { display: none; }` but bootstrap.min.css set `[hidden] { display: none !important; }` so we also need the `!important` here to be able to override the default hidden behavior on the sphinx rendered scikit-learn.org. See: https://github.com/scikit-learn/scikit-learn/issues/21755 */display: inline-block !important;position: relative;}#sk-container-id-2 div.sk-text-repr-fallback {display: none;}</style><div id=\"sk-container-id-2\" class=\"sk-top-container\"><div class=\"sk-text-repr-fallback\"><pre>LinearRegression()</pre><b>In a Jupyter environment, please rerun this cell to show the HTML representation or trust the notebook. <br />On GitHub, the HTML representation is unable to render, please try loading this page with nbviewer.org.</b></div><div class=\"sk-container\" hidden><div class=\"sk-item\"><div class=\"sk-estimator sk-toggleable\"><input class=\"sk-toggleable__control sk-hidden--visually\" id=\"sk-estimator-id-2\" type=\"checkbox\" checked><label for=\"sk-estimator-id-2\" class=\"sk-toggleable__label sk-toggleable__label-arrow\">LinearRegression</label><div class=\"sk-toggleable__content\"><pre>LinearRegression()</pre></div></div></div></div></div>"
            ],
            "text/plain": [
              "LinearRegression()"
            ]
          },
          "execution_count": 69,
          "metadata": {},
          "output_type": "execute_result"
        }
      ],
      "source": [
        "regressor_2 = LinearRegression()\n",
        "regressor_2.fit(X_poly,y)"
      ]
    },
    {
      "cell_type": "code",
      "execution_count": null,
      "id": "9a38c035",
      "metadata": {
        "id": "9a38c035",
        "outputId": "ff552141-65e0-45a8-918d-1ede0cdac3d5"
      },
      "outputs": [
        {
          "data": {
            "text/plain": [
              "0.99828352180937"
            ]
          },
          "execution_count": 70,
          "metadata": {},
          "output_type": "execute_result"
        }
      ],
      "source": [
        "regressor_2.score(X_poly,y)"
      ]
    },
    {
      "cell_type": "code",
      "execution_count": null,
      "id": "2f2180a9",
      "metadata": {
        "id": "2f2180a9",
        "outputId": "6bb3ff91-78ce-4e56-e7b9-b2e6142e28de"
      },
      "outputs": [
        {
          "name": "stdout",
          "output_type": "stream",
          "text": [
            "regression coefficient =  [ 0.          1.58605277 -0.30016155 -0.01510501  0.00665051]\n",
            "regression intercept =  0.850726978998368\n"
          ]
        }
      ],
      "source": [
        "# Predicting a new result with Polynomial Regression\n",
        "\n",
        "Poly_pred = regressor_2.predict(poly_reg.fit_transform(X))\n",
        "print('regression coefficient = ', regressor_2.coef_)\n",
        "print('regression intercept = ', regressor_2.intercept_)"
      ]
    },
    {
      "cell_type": "code",
      "execution_count": null,
      "id": "e3927b34",
      "metadata": {
        "id": "e3927b34",
        "outputId": "03d7f93c-a2c1-4ed8-85cf-811720adac9d"
      },
      "outputs": [
        {
          "data": {
            "image/png": "[encoded data removed]",
            "text/plain": [
              "<Figure size 640x480 with 1 Axes>"
            ]
          },
          "metadata": {},
          "output_type": "display_data"
        }
      ],
      "source": [
        "# Visualizing the Polynomial Regression results\n",
        "\n",
        "plt.scatter(X, y, color = 'red')\n",
        "plt.plot(X, regressor_2.predict(poly_reg.fit_transform(X)), color = 'blue')\n",
        "plt.title('Truth or Bluff(Polynomial Regression)')\n",
        "plt.xlabel('Position level')\n",
        "plt.ylabel('Salary')\n",
        "plt.show()"
      ]
    },
    {
      "cell_type": "code",
      "execution_count": null,
      "id": "36f9ca2a",
      "metadata": {
        "id": "36f9ca2a",
        "outputId": "ce06ab69-1016-4c93-be67-8191f8ea2eaa"
      },
      "outputs": [
        {
          "data": {
            "text/html": [
              "<div>\n",
              "<style scoped>\n",
              "    .dataframe tbody tr th:only-of-type {\n",
              "        vertical-align: middle;\n",
              "    }\n",
              "\n",
              "    .dataframe tbody tr th {\n",
              "        vertical-align: top;\n",
              "    }\n",
              "\n",
              "    .dataframe thead th {\n",
              "        text-align: right;\n",
              "    }\n",
              "</style>\n",
              "<table border=\"1\" class=\"dataframe\">\n",
              "  <thead>\n",
              "    <tr style=\"text-align: right;\">\n",
              "      <th></th>\n",
              "      <th>X</th>\n",
              "      <th>y</th>\n",
              "      <th>yhat</th>\n",
              "      <th>yhat_poly</th>\n",
              "    </tr>\n",
              "  </thead>\n",
              "  <tbody>\n",
              "    <tr>\n",
              "      <th>0</th>\n",
              "      <td>-1</td>\n",
              "      <td>-1</td>\n",
              "      <td>-0.551601</td>\n",
              "      <td>-1.013732</td>\n",
              "    </tr>\n",
              "    <tr>\n",
              "      <th>1</th>\n",
              "      <td>1</td>\n",
              "      <td>2</td>\n",
              "      <td>1.313167</td>\n",
              "      <td>2.128164</td>\n",
              "    </tr>\n",
              "    <tr>\n",
              "      <th>2</th>\n",
              "      <td>2</td>\n",
              "      <td>3</td>\n",
              "      <td>2.245552</td>\n",
              "      <td>2.807754</td>\n",
              "    </tr>\n",
              "    <tr>\n",
              "      <th>3</th>\n",
              "      <td>4</td>\n",
              "      <td>3</td>\n",
              "      <td>4.110320</td>\n",
              "      <td>3.128164</td>\n",
              "    </tr>\n",
              "    <tr>\n",
              "      <th>4</th>\n",
              "      <td>6</td>\n",
              "      <td>5</td>\n",
              "      <td>5.975089</td>\n",
              "      <td>4.917609</td>\n",
              "    </tr>\n",
              "    <tr>\n",
              "      <th>5</th>\n",
              "      <td>7</td>\n",
              "      <td>8</td>\n",
              "      <td>6.907473</td>\n",
              "      <td>8.032041</td>\n",
              "    </tr>\n",
              "  </tbody>\n",
              "</table>\n",
              "</div>"
            ],
            "text/plain": [
              "   X  y      yhat  yhat_poly\n",
              "0 -1 -1 -0.551601  -1.013732\n",
              "1  1  2  1.313167   2.128164\n",
              "2  2  3  2.245552   2.807754\n",
              "3  4  3  4.110320   3.128164\n",
              "4  6  5  5.975089   4.917609\n",
              "5  7  8  6.907473   8.032041"
            ]
          },
          "execution_count": 77,
          "metadata": {},
          "output_type": "execute_result"
        }
      ],
      "source": [
        "dataset['yhat_poly'] = Poly_pred\n",
        "dataset"
      ]
    },
    {
      "cell_type": "code",
      "execution_count": null,
      "id": "27e47f7e",
      "metadata": {
        "id": "27e47f7e",
        "outputId": "688a14a7-5fe2-4160-d8dd-9d1494cf9788"
      },
      "outputs": [
        {
          "data": {
            "image/png": "[encoded data removed]",
            "text/plain": [
              "<Figure size 1600x2000 with 1 Axes>"
            ]
          },
          "metadata": {},
          "output_type": "display_data"
        }
      ],
      "source": [
        "# A bar plot showing the difference between actual value (y) and predicted value using polynomial regression (yhat_poly)\n",
        "\n",
        "dataset[['y', 'yhat_poly']].plot(kind = 'bar', figsize = (16,20))\n",
        "\n",
        "plt.grid(which = 'major', linestyle = '-', linewidth = '0.5', color = 'yellow')\n",
        "plt.grid(which = 'minor', linestyle = ':', linewidth = '0.5', color = 'green')\n",
        "plt.show()"
      ]
    },
    {
      "cell_type": "code",
      "execution_count": null,
      "id": "670bf3a9",
      "metadata": {
        "id": "670bf3a9"
      },
      "outputs": [],
      "source": []
    }
  ],
  "metadata": {
    "kernelspec": {
      "display_name": "Python 3 (ipykernel)",
      "language": "python",
      "name": "python3"
    },
    "language_info": {
      "codemirror_mode": {
        "name": "ipython",
        "version": 3
      },
      "file_extension": ".py",
      "mimetype": "text/x-python",
      "name": "python",
      "nbconvert_exporter": "python",
      "pygments_lexer": "ipython3",
      "version": "3.11.5"
    },
    "colab": {
      "provenance": [],
      "include_colab_link": true
    }
  },
  "nbformat": 4,
  "nbformat_minor": 5
}