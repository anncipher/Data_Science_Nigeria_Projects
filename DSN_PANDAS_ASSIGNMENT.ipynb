{
  "cells": [
    {
      "cell_type": "markdown",
      "metadata": {
        "id": "view-in-github",
        "colab_type": "text"
      },
      "source": [
        "<a href=\"https://colab.research.google.com/github/anncipher/Data_Science_Nigeria_Projects/blob/main/DSN_PANDAS_ASSIGNMENT.ipynb\" target=\"_parent\"><img src=\"https://colab.research.google.com/assets/colab-badge.svg\" alt=\"Open In Colab\"/></a>"
      ]
    },
    {
      "cell_type": "code",
      "execution_count": null,
      "id": "ee4c78fe",
      "metadata": {
        "id": "ee4c78fe"
      },
      "outputs": [],
      "source": [
        "import pandas as pd\n",
        "import numpy as np"
      ]
    },
    {
      "cell_type": "code",
      "execution_count": null,
      "id": "87d66ee2",
      "metadata": {
        "id": "87d66ee2",
        "outputId": "bdb78dbb-e883-4cff-8f5d-5b2ca649229f"
      },
      "outputs": [
        {
          "data": {
            "text/html": [
              "<div>\n",
              "<style scoped>\n",
              "    .dataframe tbody tr th:only-of-type {\n",
              "        vertical-align: middle;\n",
              "    }\n",
              "\n",
              "    .dataframe tbody tr th {\n",
              "        vertical-align: top;\n",
              "    }\n",
              "\n",
              "    .dataframe thead th {\n",
              "        text-align: right;\n",
              "    }\n",
              "</style>\n",
              "<table border=\"1\" class=\"dataframe\">\n",
              "  <thead>\n",
              "    <tr style=\"text-align: right;\">\n",
              "      <th></th>\n",
              "      <th>passenger_id</th>\n",
              "      <th>pclass</th>\n",
              "      <th>name</th>\n",
              "      <th>sex</th>\n",
              "      <th>age</th>\n",
              "      <th>sibsp</th>\n",
              "      <th>parch</th>\n",
              "      <th>ticket</th>\n",
              "      <th>fare</th>\n",
              "      <th>cabin</th>\n",
              "      <th>embarked</th>\n",
              "      <th>boat</th>\n",
              "      <th>body</th>\n",
              "      <th>home.dest</th>\n",
              "      <th>survived</th>\n",
              "    </tr>\n",
              "  </thead>\n",
              "  <tbody>\n",
              "    <tr>\n",
              "      <th>0</th>\n",
              "      <td>1216</td>\n",
              "      <td>3</td>\n",
              "      <td>Smyth, Miss. Julia</td>\n",
              "      <td>female</td>\n",
              "      <td>NaN</td>\n",
              "      <td>0</td>\n",
              "      <td>0</td>\n",
              "      <td>335432</td>\n",
              "      <td>7.7333</td>\n",
              "      <td>NaN</td>\n",
              "      <td>Q</td>\n",
              "      <td>13</td>\n",
              "      <td>NaN</td>\n",
              "      <td>NaN</td>\n",
              "      <td>1</td>\n",
              "    </tr>\n",
              "    <tr>\n",
              "      <th>1</th>\n",
              "      <td>699</td>\n",
              "      <td>3</td>\n",
              "      <td>Cacic, Mr. Luka</td>\n",
              "      <td>male</td>\n",
              "      <td>38.0</td>\n",
              "      <td>0</td>\n",
              "      <td>0</td>\n",
              "      <td>315089</td>\n",
              "      <td>8.6625</td>\n",
              "      <td>NaN</td>\n",
              "      <td>S</td>\n",
              "      <td>NaN</td>\n",
              "      <td>NaN</td>\n",
              "      <td>Croatia</td>\n",
              "      <td>0</td>\n",
              "    </tr>\n",
              "    <tr>\n",
              "      <th>2</th>\n",
              "      <td>1267</td>\n",
              "      <td>3</td>\n",
              "      <td>Van Impe, Mrs. Jean Baptiste (Rosalie Paula Go...</td>\n",
              "      <td>female</td>\n",
              "      <td>30.0</td>\n",
              "      <td>1</td>\n",
              "      <td>1</td>\n",
              "      <td>345773</td>\n",
              "      <td>24.1500</td>\n",
              "      <td>NaN</td>\n",
              "      <td>S</td>\n",
              "      <td>NaN</td>\n",
              "      <td>NaN</td>\n",
              "      <td>NaN</td>\n",
              "      <td>0</td>\n",
              "    </tr>\n",
              "    <tr>\n",
              "      <th>3</th>\n",
              "      <td>449</td>\n",
              "      <td>2</td>\n",
              "      <td>Hocking, Mrs. Elizabeth (Eliza Needs)</td>\n",
              "      <td>female</td>\n",
              "      <td>54.0</td>\n",
              "      <td>1</td>\n",
              "      <td>3</td>\n",
              "      <td>29105</td>\n",
              "      <td>23.0000</td>\n",
              "      <td>NaN</td>\n",
              "      <td>S</td>\n",
              "      <td>4</td>\n",
              "      <td>NaN</td>\n",
              "      <td>Cornwall / Akron, OH</td>\n",
              "      <td>1</td>\n",
              "    </tr>\n",
              "    <tr>\n",
              "      <th>4</th>\n",
              "      <td>576</td>\n",
              "      <td>2</td>\n",
              "      <td>Veal, Mr. James</td>\n",
              "      <td>male</td>\n",
              "      <td>40.0</td>\n",
              "      <td>0</td>\n",
              "      <td>0</td>\n",
              "      <td>28221</td>\n",
              "      <td>13.0000</td>\n",
              "      <td>NaN</td>\n",
              "      <td>S</td>\n",
              "      <td>NaN</td>\n",
              "      <td>NaN</td>\n",
              "      <td>Barre, Co Washington, VT</td>\n",
              "      <td>0</td>\n",
              "    </tr>\n",
              "  </tbody>\n",
              "</table>\n",
              "</div>"
            ],
            "text/plain": [
              "   passenger_id  pclass                                               name  \\\n",
              "0          1216       3                                 Smyth, Miss. Julia   \n",
              "1           699       3                                    Cacic, Mr. Luka   \n",
              "2          1267       3  Van Impe, Mrs. Jean Baptiste (Rosalie Paula Go...   \n",
              "3           449       2              Hocking, Mrs. Elizabeth (Eliza Needs)   \n",
              "4           576       2                                    Veal, Mr. James   \n",
              "\n",
              "      sex   age  sibsp  parch  ticket     fare cabin embarked boat  body  \\\n",
              "0  female   NaN      0      0  335432   7.7333   NaN        Q   13   NaN   \n",
              "1    male  38.0      0      0  315089   8.6625   NaN        S  NaN   NaN   \n",
              "2  female  30.0      1      1  345773  24.1500   NaN        S  NaN   NaN   \n",
              "3  female  54.0      1      3   29105  23.0000   NaN        S    4   NaN   \n",
              "4    male  40.0      0      0   28221  13.0000   NaN        S  NaN   NaN   \n",
              "\n",
              "                  home.dest  survived  \n",
              "0                       NaN         1  \n",
              "1                   Croatia         0  \n",
              "2                       NaN         0  \n",
              "3      Cornwall / Akron, OH         1  \n",
              "4  Barre, Co Washington, VT         0  "
            ]
          },
          "execution_count": 2,
          "metadata": {},
          "output_type": "execute_result"
        }
      ],
      "source": [
        "# Loading dataset\n",
        "\n",
        "df = pd.read_csv('Downloads/titanic_train.csv')\n",
        "df.head()"
      ]
    },
    {
      "cell_type": "code",
      "execution_count": null,
      "id": "cc6cac60",
      "metadata": {
        "id": "cc6cac60",
        "outputId": "15aee84c-ac45-4d92-a590-8170f971bd2d"
      },
      "outputs": [
        {
          "name": "stdout",
          "output_type": "stream",
          "text": [
            "<class 'pandas.core.frame.DataFrame'>\n",
            "RangeIndex: 850 entries, 0 to 849\n",
            "Data columns (total 15 columns):\n",
            " #   Column        Non-Null Count  Dtype  \n",
            "---  ------        --------------  -----  \n",
            " 0   passenger_id  850 non-null    int64  \n",
            " 1   pclass        850 non-null    int64  \n",
            " 2   name          850 non-null    object \n",
            " 3   sex           850 non-null    object \n",
            " 4   age           676 non-null    float64\n",
            " 5   sibsp         850 non-null    int64  \n",
            " 6   parch         850 non-null    int64  \n",
            " 7   ticket        850 non-null    object \n",
            " 8   fare          849 non-null    float64\n",
            " 9   cabin         191 non-null    object \n",
            " 10  embarked      849 non-null    object \n",
            " 11  boat          308 non-null    object \n",
            " 12  body          73 non-null     float64\n",
            " 13  home.dest     464 non-null    object \n",
            " 14  survived      850 non-null    int64  \n",
            "dtypes: float64(3), int64(5), object(7)\n",
            "memory usage: 99.7+ KB\n"
          ]
        }
      ],
      "source": [
        "# Checking the dataset to know data type\n",
        "\n",
        "df.info()"
      ]
    },
    {
      "cell_type": "code",
      "execution_count": null,
      "id": "49637670",
      "metadata": {
        "id": "49637670",
        "outputId": "cdccfe77-b471-4637-9511-7c07993e901e"
      },
      "outputs": [
        {
          "data": {
            "text/plain": [
              "passenger_id      0\n",
              "pclass            0\n",
              "name              0\n",
              "sex               0\n",
              "age             174\n",
              "sibsp             0\n",
              "parch             0\n",
              "ticket            0\n",
              "fare              1\n",
              "cabin           659\n",
              "embarked          1\n",
              "boat            542\n",
              "body            777\n",
              "home.dest       386\n",
              "survived          0\n",
              "dtype: int64"
            ]
          },
          "execution_count": 4,
          "metadata": {},
          "output_type": "execute_result"
        }
      ],
      "source": [
        "# Checking for missing values\n",
        "\n",
        "df.isnull().sum()"
      ]
    },
    {
      "cell_type": "code",
      "execution_count": null,
      "id": "5a5238f3",
      "metadata": {
        "id": "5a5238f3",
        "outputId": "5d35b3fa-03d5-4241-b441-f9cbddca5bcd"
      },
      "outputs": [
        {
          "data": {
            "text/plain": [
              "passenger_id     0.000000\n",
              "pclass           0.000000\n",
              "name             0.000000\n",
              "sex              0.000000\n",
              "age             20.470588\n",
              "sibsp            0.000000\n",
              "parch            0.000000\n",
              "ticket           0.000000\n",
              "fare             0.117647\n",
              "cabin           77.529412\n",
              "embarked         0.117647\n",
              "boat            63.764706\n",
              "body            91.411765\n",
              "home.dest       45.411765\n",
              "survived         0.000000\n",
              "dtype: float64"
            ]
          },
          "execution_count": 6,
          "metadata": {},
          "output_type": "execute_result"
        }
      ],
      "source": [
        "# Checking percentage of missing values to readily detect the columns to drop or replace\n",
        "# Note: Column with large % missing values will be dropped/replaced\n",
        "\n",
        "df.isnull().sum() * 100 / len(df)"
      ]
    },
    {
      "cell_type": "code",
      "execution_count": null,
      "id": "29a6f2f4",
      "metadata": {
        "id": "29a6f2f4",
        "outputId": "8284e46e-a732-4d4f-aec7-98d34b3120fd"
      },
      "outputs": [
        {
          "data": {
            "text/html": [
              "<div>\n",
              "<style scoped>\n",
              "    .dataframe tbody tr th:only-of-type {\n",
              "        vertical-align: middle;\n",
              "    }\n",
              "\n",
              "    .dataframe tbody tr th {\n",
              "        vertical-align: top;\n",
              "    }\n",
              "\n",
              "    .dataframe thead th {\n",
              "        text-align: right;\n",
              "    }\n",
              "</style>\n",
              "<table border=\"1\" class=\"dataframe\">\n",
              "  <thead>\n",
              "    <tr style=\"text-align: right;\">\n",
              "      <th></th>\n",
              "      <th>passenger_id</th>\n",
              "      <th>pclass</th>\n",
              "      <th>age</th>\n",
              "      <th>sibsp</th>\n",
              "      <th>parch</th>\n",
              "      <th>fare</th>\n",
              "      <th>body</th>\n",
              "      <th>survived</th>\n",
              "    </tr>\n",
              "  </thead>\n",
              "  <tbody>\n",
              "    <tr>\n",
              "      <th>count</th>\n",
              "      <td>850.000000</td>\n",
              "      <td>850.00000</td>\n",
              "      <td>676.000000</td>\n",
              "      <td>850.000000</td>\n",
              "      <td>850.000000</td>\n",
              "      <td>849.000000</td>\n",
              "      <td>73.000000</td>\n",
              "      <td>850.000000</td>\n",
              "    </tr>\n",
              "    <tr>\n",
              "      <th>mean</th>\n",
              "      <td>662.816471</td>\n",
              "      <td>2.32000</td>\n",
              "      <td>29.519847</td>\n",
              "      <td>0.522353</td>\n",
              "      <td>0.382353</td>\n",
              "      <td>34.012701</td>\n",
              "      <td>165.821918</td>\n",
              "      <td>0.368235</td>\n",
              "    </tr>\n",
              "    <tr>\n",
              "      <th>std</th>\n",
              "      <td>380.751936</td>\n",
              "      <td>0.83853</td>\n",
              "      <td>14.562243</td>\n",
              "      <td>1.112132</td>\n",
              "      <td>0.879511</td>\n",
              "      <td>53.705779</td>\n",
              "      <td>99.068487</td>\n",
              "      <td>0.482610</td>\n",
              "    </tr>\n",
              "    <tr>\n",
              "      <th>min</th>\n",
              "      <td>1.000000</td>\n",
              "      <td>1.00000</td>\n",
              "      <td>0.166700</td>\n",
              "      <td>0.000000</td>\n",
              "      <td>0.000000</td>\n",
              "      <td>0.000000</td>\n",
              "      <td>4.000000</td>\n",
              "      <td>0.000000</td>\n",
              "    </tr>\n",
              "    <tr>\n",
              "      <th>25%</th>\n",
              "      <td>332.250000</td>\n",
              "      <td>2.00000</td>\n",
              "      <td>20.000000</td>\n",
              "      <td>0.000000</td>\n",
              "      <td>0.000000</td>\n",
              "      <td>7.895800</td>\n",
              "      <td>75.000000</td>\n",
              "      <td>0.000000</td>\n",
              "    </tr>\n",
              "    <tr>\n",
              "      <th>50%</th>\n",
              "      <td>676.500000</td>\n",
              "      <td>3.00000</td>\n",
              "      <td>28.000000</td>\n",
              "      <td>0.000000</td>\n",
              "      <td>0.000000</td>\n",
              "      <td>14.108300</td>\n",
              "      <td>166.000000</td>\n",
              "      <td>0.000000</td>\n",
              "    </tr>\n",
              "    <tr>\n",
              "      <th>75%</th>\n",
              "      <td>992.250000</td>\n",
              "      <td>3.00000</td>\n",
              "      <td>37.000000</td>\n",
              "      <td>1.000000</td>\n",
              "      <td>0.000000</td>\n",
              "      <td>31.000000</td>\n",
              "      <td>260.000000</td>\n",
              "      <td>1.000000</td>\n",
              "    </tr>\n",
              "    <tr>\n",
              "      <th>max</th>\n",
              "      <td>1307.000000</td>\n",
              "      <td>3.00000</td>\n",
              "      <td>80.000000</td>\n",
              "      <td>8.000000</td>\n",
              "      <td>9.000000</td>\n",
              "      <td>512.329200</td>\n",
              "      <td>328.000000</td>\n",
              "      <td>1.000000</td>\n",
              "    </tr>\n",
              "  </tbody>\n",
              "</table>\n",
              "</div>"
            ],
            "text/plain": [
              "       passenger_id     pclass         age       sibsp       parch  \\\n",
              "count    850.000000  850.00000  676.000000  850.000000  850.000000   \n",
              "mean     662.816471    2.32000   29.519847    0.522353    0.382353   \n",
              "std      380.751936    0.83853   14.562243    1.112132    0.879511   \n",
              "min        1.000000    1.00000    0.166700    0.000000    0.000000   \n",
              "25%      332.250000    2.00000   20.000000    0.000000    0.000000   \n",
              "50%      676.500000    3.00000   28.000000    0.000000    0.000000   \n",
              "75%      992.250000    3.00000   37.000000    1.000000    0.000000   \n",
              "max     1307.000000    3.00000   80.000000    8.000000    9.000000   \n",
              "\n",
              "             fare        body    survived  \n",
              "count  849.000000   73.000000  850.000000  \n",
              "mean    34.012701  165.821918    0.368235  \n",
              "std     53.705779   99.068487    0.482610  \n",
              "min      0.000000    4.000000    0.000000  \n",
              "25%      7.895800   75.000000    0.000000  \n",
              "50%     14.108300  166.000000    0.000000  \n",
              "75%     31.000000  260.000000    1.000000  \n",
              "max    512.329200  328.000000    1.000000  "
            ]
          },
          "execution_count": 7,
          "metadata": {},
          "output_type": "execute_result"
        }
      ],
      "source": [
        "df.describe()"
      ]
    },
    {
      "cell_type": "code",
      "execution_count": null,
      "id": "680481e1",
      "metadata": {
        "id": "680481e1"
      },
      "outputs": [],
      "source": [
        "# Replacing missing values with mean\n",
        "\n",
        "df['age'].fillna(value=29.5198, inplace=True)\n",
        "df['fare'].fillna(value=34.0127, inplace=True)\n",
        "df['body'].fillna(value=165.8219, inplace=True)\n"
      ]
    },
    {
      "cell_type": "code",
      "execution_count": null,
      "id": "3841b7a2",
      "metadata": {
        "id": "3841b7a2",
        "outputId": "8f4a7e26-3c9c-4549-9ae7-4bb97ec2a421"
      },
      "outputs": [
        {
          "data": {
            "text/plain": [
              "passenger_id      0\n",
              "pclass            0\n",
              "name              0\n",
              "sex               0\n",
              "age               0\n",
              "sibsp             0\n",
              "parch             0\n",
              "ticket            0\n",
              "fare              0\n",
              "cabin           659\n",
              "embarked          1\n",
              "boat            542\n",
              "body              0\n",
              "home.dest       386\n",
              "survived          0\n",
              "dtype: int64"
            ]
          },
          "execution_count": 9,
          "metadata": {},
          "output_type": "execute_result"
        }
      ],
      "source": [
        "# Confirm if missing values have been replaced\n",
        "\n",
        "df.isnull().sum()"
      ]
    },
    {
      "cell_type": "code",
      "execution_count": null,
      "id": "dd6d73db",
      "metadata": {
        "id": "dd6d73db"
      },
      "outputs": [],
      "source": [
        "# To replace NaN values with the mode\n",
        "\n",
        "columns_to_fill = ['cabin', 'embarked', 'boat', 'home.dest']\n",
        "for column in columns_to_fill:\n",
        "    mode_value = df[column].mode()[0]\n",
        "    df[column] = df[column].fillna(mode_value)"
      ]
    },
    {
      "cell_type": "code",
      "execution_count": null,
      "id": "32210cc7",
      "metadata": {
        "id": "32210cc7",
        "outputId": "ccef38e2-c584-47e1-eb92-f52ab1cfab22"
      },
      "outputs": [
        {
          "data": {
            "text/plain": [
              "passenger_id    0\n",
              "pclass          0\n",
              "name            0\n",
              "sex             0\n",
              "age             0\n",
              "sibsp           0\n",
              "parch           0\n",
              "ticket          0\n",
              "fare            0\n",
              "cabin           0\n",
              "embarked        0\n",
              "boat            0\n",
              "body            0\n",
              "home.dest       0\n",
              "survived        0\n",
              "dtype: int64"
            ]
          },
          "execution_count": 11,
          "metadata": {},
          "output_type": "execute_result"
        }
      ],
      "source": [
        "df.isnull().sum()"
      ]
    },
    {
      "cell_type": "markdown",
      "id": "b5c7622d",
      "metadata": {
        "id": "b5c7622d"
      },
      "source": [
        "### Data Visualization"
      ]
    },
    {
      "cell_type": "code",
      "execution_count": null,
      "id": "52b62058",
      "metadata": {
        "id": "52b62058",
        "outputId": "6d2fb9f0-eacb-46b1-e3e3-e12f2f51e862"
      },
      "outputs": [
        {
          "data": {
            "text/plain": [
              "<Axes: title={'center': 'Count of Males and Females'}, xlabel='sex', ylabel='count'>"
            ]
          },
          "execution_count": 14,
          "metadata": {},
          "output_type": "execute_result"
        },
        {
          "data": {
            "image/png": "[encoded data removed]",
            "text/plain": [
              "<Figure size 640x480 with 1 Axes>"
            ]
          },
          "metadata": {},
          "output_type": "display_data"
        }
      ],
      "source": [
        "# Plot the count of Male and Female passengers\n",
        "# Count of males and females\n",
        "\n",
        "import matplotlib.pyplot as plt\n",
        "import seaborn as sns\n",
        "\n",
        "plt.title('Count of Males and Females')\n",
        "sns.set(style = 'darkgrid')\n",
        "sns.countplot(x = df['sex'])"
      ]
    }
  ],
  "metadata": {
    "kernelspec": {
      "display_name": "Python 3 (ipykernel)",
      "language": "python",
      "name": "python3"
    },
    "language_info": {
      "codemirror_mode": {
        "name": "ipython",
        "version": 3
      },
      "file_extension": ".py",
      "mimetype": "text/x-python",
      "name": "python",
      "nbconvert_exporter": "python",
      "pygments_lexer": "ipython3",
      "version": "3.11.5"
    },
    "colab": {
      "provenance": [],
      "include_colab_link": true
    }
  },
  "nbformat": 4,
  "nbformat_minor": 5
}