{
  "cells": [
    {
      "cell_type": "markdown",
      "metadata": {
        "id": "view-in-github",
        "colab_type": "text"
      },
      "source": [
        "<a href=\"https://colab.research.google.com/github/anncipher/Data_Science_Nigeria_Projects/blob/main/DSN_Numpy_.ipynb\" target=\"_parent\"><img src=\"https://colab.research.google.com/assets/colab-badge.svg\" alt=\"Open In Colab\"/></a>"
      ]
    },
    {
      "cell_type": "code",
      "execution_count": null,
      "id": "6f7929d8",
      "metadata": {
        "id": "6f7929d8"
      },
      "outputs": [],
      "source": [
        "import numpy as np\n"
      ]
    },
    {
      "cell_type": "code",
      "execution_count": null,
      "id": "1e30b2ac",
      "metadata": {
        "id": "1e30b2ac",
        "outputId": "7d0feb99-18fa-4ab9-a705-0f42e2a1a46d"
      },
      "outputs": [
        {
          "name": "stdout",
          "output_type": "stream",
          "text": [
            "[1 2 3 4 5]\n",
            "The shape of X is (5,)\n",
            "[ 9 10]\n",
            "The shape of Y is (2,)\n"
          ]
        }
      ],
      "source": [
        "# Creating a 1 dimensional array\n",
        "\n",
        "x = np.array([1,2,3,4,5])\n",
        "print(x)\n",
        "print('The shape of X is', x.shape)\n",
        "\n",
        "y = np.array([9,10])\n",
        "print(y)\n",
        "print('The shape of Y is', y.shape)\n"
      ]
    },
    {
      "cell_type": "code",
      "execution_count": null,
      "id": "d1165fed",
      "metadata": {
        "id": "d1165fed",
        "outputId": "7ce843b8-a0d6-413f-94a3-008220b22d38"
      },
      "outputs": [
        {
          "name": "stdout",
          "output_type": "stream",
          "text": [
            "[[1 2]\n",
            " [3 4]]\n",
            "The shape of Z is (2, 2)\n"
          ]
        }
      ],
      "source": [
        "# Creating a 2D array\n",
        "\n",
        "z = np.array([[1, 2], [3, 4]])\n",
        "print(z)\n",
        "print('The shape of Z is', z.shape)\n"
      ]
    },
    {
      "cell_type": "code",
      "execution_count": null,
      "id": "f9b57702",
      "metadata": {
        "scrolled": true,
        "id": "f9b57702",
        "outputId": "d28a9326-87e2-43e5-c0ca-c5013f89c3fb"
      },
      "outputs": [
        {
          "name": "stdout",
          "output_type": "stream",
          "text": [
            "[[[ 1  2  3]\n",
            "  [ 4  5  6]\n",
            "  [ 7  8  9]]\n",
            "\n",
            " [[10 11 12]\n",
            "  [13 14 15]\n",
            "  [16 17 18]]\n",
            "\n",
            " [[19 20 21]\n",
            "  [22 23 24]\n",
            "  [26 27 28]]]\n",
            "The shape of W is (3, 3, 3)\n"
          ]
        }
      ],
      "source": [
        "# Creating a multidimensional array\n",
        "\n",
        "w = np.array([[[1,2,3],[4,5,6],[7,8,9]],[[10,11,12],[13,14,15],[16,17,18]],[[19,20,21],[22,23,24],[26,27,28]]])\n",
        "print(w)\n",
        "print('The shape of W is', w.shape)\n"
      ]
    },
    {
      "cell_type": "code",
      "execution_count": null,
      "id": "16b0baaf",
      "metadata": {
        "id": "16b0baaf",
        "outputId": "144d9525-99e9-4caa-a743-332390601fd6"
      },
      "outputs": [
        {
          "name": "stdout",
          "output_type": "stream",
          "text": [
            "(10,)\n",
            "[0 1 2 3 4 5 6 7 8 9]\n"
          ]
        }
      ],
      "source": [
        "# arange is used to create arrays with values in a specified range\n",
        "\n",
        "A10 = np.arange(10)\n",
        "A10\n",
        "print(A10.shape)\n",
        "print(A10)\n",
        "\n"
      ]
    },
    {
      "cell_type": "code",
      "execution_count": null,
      "id": "30ca8391",
      "metadata": {
        "id": "30ca8391"
      },
      "outputs": [],
      "source": [
        "# reshape is used to change a scalar matrix to vector\n",
        "\n",
        "B10 = A10.reshape(-1,1)\n",
        "print( A10, '\\n', B10)\n",
        "print('The shape of 1D array X =', B10.shape)"
      ]
    },
    {
      "cell_type": "code",
      "execution_count": null,
      "id": "094f9f2d",
      "metadata": {
        "id": "094f9f2d"
      },
      "outputs": [],
      "source": [
        "A10 = B10.reshape(2,5)\n",
        "print(A10)\n",
        "print('The shape of 1D array X =', A10.shape)"
      ]
    },
    {
      "cell_type": "code",
      "execution_count": null,
      "id": "5d503fe8",
      "metadata": {
        "id": "5d503fe8",
        "outputId": "dc1fc409-07fa-4e3c-f49e-44878a44b071"
      },
      "outputs": [
        {
          "data": {
            "text/plain": [
              "array([[0., 0., 0.],\n",
              "       [0., 0., 0.]])"
            ]
          },
          "execution_count": 22,
          "metadata": {},
          "output_type": "execute_result"
        }
      ],
      "source": [
        "# zeros is used to create an array filled with zeros\n",
        "\n",
        "np_Zeros = np.zeros((2,3))\n",
        "np_Zeros"
      ]
    },
    {
      "cell_type": "code",
      "execution_count": null,
      "id": "9552f5a2",
      "metadata": {
        "id": "9552f5a2",
        "outputId": "97774206-0df0-40b8-c2f0-7bbe3782c9ef"
      },
      "outputs": [
        {
          "data": {
            "text/plain": [
              "array([[0, 0, 0],\n",
              "       [0, 0, 0]])"
            ]
          },
          "execution_count": 24,
          "metadata": {},
          "output_type": "execute_result"
        }
      ],
      "source": [
        "np_Zeros = np.zeros((2,3))\n",
        "np_Zeros.astype(int)"
      ]
    },
    {
      "cell_type": "code",
      "execution_count": null,
      "id": "ee53a951",
      "metadata": {
        "id": "ee53a951",
        "outputId": "3b2c4345-b952-48b5-8d29-3c014cbaec81"
      },
      "outputs": [
        {
          "data": {
            "text/plain": [
              "array([[1., 1., 1.],\n",
              "       [1., 1., 1.]])"
            ]
          },
          "execution_count": 27,
          "metadata": {},
          "output_type": "execute_result"
        }
      ],
      "source": [
        "# ones is used to create an array filled with ones\n",
        "\n",
        "np_Ones = np.ones((2,3))\n",
        "np_Ones"
      ]
    },
    {
      "cell_type": "code",
      "execution_count": null,
      "id": "947841c3",
      "metadata": {
        "id": "947841c3",
        "outputId": "17079219-9dea-43bb-b8ff-ccc6a7f276eb"
      },
      "outputs": [
        {
          "data": {
            "text/plain": [
              "array([[4, 4, 4],\n",
              "       [4, 4, 4]])"
            ]
          },
          "execution_count": 28,
          "metadata": {},
          "output_type": "execute_result"
        }
      ],
      "source": [
        "# full creates a n * n array filled with a specified given value\n",
        "\n",
        "np_full = np.full((2,3), 4)\n",
        "np_full"
      ]
    },
    {
      "cell_type": "code",
      "execution_count": null,
      "id": "3cbe98c8",
      "metadata": {
        "id": "3cbe98c8",
        "outputId": "a564d3dd-d09e-4203-b939-0f9ddc866557"
      },
      "outputs": [
        {
          "data": {
            "text/plain": [
              "array([[1., 0., 0., 0., 0., 0.],\n",
              "       [0., 1., 0., 0., 0., 0.],\n",
              "       [0., 0., 1., 0., 0., 0.],\n",
              "       [0., 0., 0., 1., 0., 0.],\n",
              "       [0., 0., 0., 0., 1., 0.],\n",
              "       [0., 0., 0., 0., 0., 1.]])"
            ]
          },
          "execution_count": 31,
          "metadata": {},
          "output_type": "execute_result"
        }
      ],
      "source": [
        "# eye creates a n * n diagonal matrix\n",
        "\n",
        "np_eye = np.eye(6,6)\n",
        "np_eye"
      ]
    },
    {
      "cell_type": "code",
      "execution_count": null,
      "id": "d67abd87",
      "metadata": {
        "id": "d67abd87",
        "outputId": "556c0f59-c78c-4e19-ad96-7025604e3130"
      },
      "outputs": [
        {
          "data": {
            "text/plain": [
              "array([ 0.,  2.,  4.,  6.,  8., 10.])"
            ]
          },
          "execution_count": 36,
          "metadata": {},
          "output_type": "execute_result"
        }
      ],
      "source": [
        "# linspace returns equally spaced numbers over a specified interval\n",
        "\n",
        "np_linspace = np.linspace(0, 10, num = 6)\n",
        "np_linspace"
      ]
    },
    {
      "cell_type": "code",
      "execution_count": null,
      "id": "43f82cdb",
      "metadata": {
        "id": "43f82cdb",
        "outputId": "23210b33-9b31-4202-d67c-3e8f6ae5db6d"
      },
      "outputs": [
        {
          "name": "stdout",
          "output_type": "stream",
          "text": [
            "[[0.92224408 0.19009249 0.53675609]\n",
            " [0.3197495  0.8836985  0.06308652]]\n",
            "[[0.67092229 0.55048281 0.03096544]\n",
            " [0.02740433 0.6055962  0.07624304]]\n",
            "[[7 2 7]\n",
            " [4 6 7]\n",
            " [0 6 4]\n",
            " [7 2 1]\n",
            " [7 1 2]]\n"
          ]
        }
      ],
      "source": [
        "# rand creates an array filled with random values between 0 and 1\n",
        "\n",
        "np_rand = np.random.random_sample((2,3))\n",
        "print(np_rand)\n",
        "np.save('array_data.npy',np_rand)\n",
        "np_rand1 = np.random.rand(2,3)\n",
        "print(np_rand1)\n",
        "\n",
        "X = np.random.randint(10, size=(5,3))\n",
        "print(X)"
      ]
    },
    {
      "cell_type": "code",
      "execution_count": null,
      "id": "cdd59e55",
      "metadata": {
        "id": "cdd59e55",
        "outputId": "d8ba262b-a364-4674-e2ee-926abebc80e9"
      },
      "outputs": [
        {
          "name": "stdout",
          "output_type": "stream",
          "text": [
            "[[1 2]\n",
            " [3 4]]\n"
          ]
        },
        {
          "data": {
            "text/plain": [
              "3"
            ]
          },
          "execution_count": 52,
          "metadata": {},
          "output_type": "execute_result"
        }
      ],
      "source": [
        "# Accessing elements of numpy array\n",
        "\n",
        "# row 1, column 0 gives a scalar\n",
        "\n",
        "print(z)\n",
        "z[1,0]\n",
        "\n"
      ]
    },
    {
      "cell_type": "code",
      "execution_count": null,
      "id": "4974410f",
      "metadata": {
        "id": "4974410f",
        "outputId": "0ee76b80-0616-4a26-f93f-b645d7e70744"
      },
      "outputs": [
        {
          "data": {
            "text/plain": [
              "3"
            ]
          },
          "execution_count": 53,
          "metadata": {},
          "output_type": "execute_result"
        }
      ],
      "source": [
        "# or\n",
        "\n",
        "p = z[1][0]\n",
        "p"
      ]
    },
    {
      "cell_type": "code",
      "execution_count": null,
      "id": "7b592d3b",
      "metadata": {
        "id": "7b592d3b",
        "outputId": "6851a107-58ac-49e1-bb76-64eb28150504"
      },
      "outputs": [
        {
          "data": {
            "text/plain": [
              "array([1])"
            ]
          },
          "execution_count": 54,
          "metadata": {},
          "output_type": "execute_result"
        }
      ],
      "source": [
        "p = (z[0:1, 0])\n",
        "p"
      ]
    },
    {
      "cell_type": "code",
      "execution_count": null,
      "id": "2e34abe5",
      "metadata": {
        "id": "2e34abe5",
        "outputId": "b7212029-9240-4cc4-cb75-75eaca062e00"
      },
      "outputs": [
        {
          "name": "stdout",
          "output_type": "stream",
          "text": [
            "[[1 2]\n",
            " [3 4]\n",
            " [5 6]]\n",
            "(3, 2)\n"
          ]
        }
      ],
      "source": [
        "import numpy as np\n",
        "b = np.array([[1, 2], [3, 4], [5, 6 ]])\n",
        "print(b)\n",
        "print(b.shape)"
      ]
    },
    {
      "cell_type": "code",
      "execution_count": null,
      "id": "cf23c120",
      "metadata": {
        "id": "cf23c120"
      },
      "outputs": [],
      "source": [
        "# Numpy Attributes\n",
        "\n",
        "# Shape: indicates the size of an array\n",
        "# Size: returns the total number of elements in the NumPy array\n",
        "# Dtype: returns the type of elements in the array, i.e., int64, character"
      ]
    },
    {
      "cell_type": "code",
      "execution_count": null,
      "id": "7147b4de",
      "metadata": {
        "id": "7147b4de",
        "outputId": "0b322f48-1350-4500-b951-561898511581"
      },
      "outputs": [
        {
          "name": "stdout",
          "output_type": "stream",
          "text": [
            "The Dtype of elements in array X = int32\n",
            "The shape of ND array W = int32\n"
          ]
        }
      ],
      "source": [
        "print('The Dtype of elements in array X =', x.dtype)\n",
        "print('The shape of ND array W =', w.dtype)"
      ]
    },
    {
      "cell_type": "code",
      "execution_count": null,
      "id": "d9ad1b16",
      "metadata": {
        "id": "d9ad1b16",
        "outputId": "19ccc834-b701-44a9-8ccd-c73de27ac76d"
      },
      "outputs": [
        {
          "name": "stdout",
          "output_type": "stream",
          "text": [
            "The shape of arange A10 = 10\n",
            "The shape of ND array W = 27\n"
          ]
        }
      ],
      "source": [
        "print('The shape of arange A10 =', A10.size)\n",
        "print('The shape of ND array W =', w.size)"
      ]
    },
    {
      "cell_type": "code",
      "execution_count": null,
      "id": "32ae350f",
      "metadata": {
        "id": "32ae350f"
      },
      "outputs": [],
      "source": [
        "# NumPy Array Math Operations\n",
        "\n",
        "x = np.array ([[1,2,3], [4,5,6]])\n",
        "y = np.array ([[2,2,2], [3,3,3]])\n",
        "z = np.array ([1,2,3])"
      ]
    },
    {
      "cell_type": "code",
      "execution_count": null,
      "id": "6cdde480",
      "metadata": {
        "id": "6cdde480",
        "outputId": "8b511232-e0ed-4fe1-b16f-4b051203255b"
      },
      "outputs": [
        {
          "data": {
            "text/plain": [
              "array([[1, 4],\n",
              "       [2, 5],\n",
              "       [3, 6]])"
            ]
          },
          "execution_count": 6,
          "metadata": {},
          "output_type": "execute_result"
        }
      ],
      "source": [
        "# Transpose x matrix\n",
        "\n",
        "x.T"
      ]
    },
    {
      "cell_type": "code",
      "execution_count": null,
      "id": "818384aa",
      "metadata": {
        "id": "818384aa",
        "outputId": "0dc4d0f0-61d0-4246-a9ca-212ad4f3c9a9"
      },
      "outputs": [
        {
          "name": "stdout",
          "output_type": "stream",
          "text": [
            "[[3 4 5]\n",
            " [7 8 9]]\n",
            "[[3 4 5]\n",
            " [7 8 9]]\n"
          ]
        }
      ],
      "source": [
        "# Elementwise addition\n",
        "\n",
        "print(x + y)\n",
        "print(np.add(x,y))"
      ]
    },
    {
      "cell_type": "code",
      "execution_count": null,
      "id": "9e08d698",
      "metadata": {
        "id": "9e08d698",
        "outputId": "8bd902ad-87a1-4391-9dad-4ca1b6092ccc"
      },
      "outputs": [
        {
          "name": "stdout",
          "output_type": "stream",
          "text": [
            "[[-1  0  1]\n",
            " [ 1  2  3]]\n",
            "[[-1  0  1]\n",
            " [ 1  2  3]]\n"
          ]
        }
      ],
      "source": [
        "# Elementwise subtraction\n",
        "\n",
        "print(x - y)\n",
        "print(np.subtract(x,y))"
      ]
    },
    {
      "cell_type": "code",
      "execution_count": null,
      "id": "bc645cea",
      "metadata": {
        "id": "bc645cea",
        "outputId": "2cdb0f20-3971-4c72-d4e4-93b5ca46b00d"
      },
      "outputs": [
        {
          "name": "stdout",
          "output_type": "stream",
          "text": [
            "[[ 1  4  9]\n",
            " [ 4 10 18]]\n",
            "[[ 1  4  9]\n",
            " [ 4 10 18]]\n"
          ]
        }
      ],
      "source": [
        "# Elementwise  multiplication\n",
        "\n",
        "print(x * z)\n",
        "print(np.multiply(x,z))"
      ]
    },
    {
      "cell_type": "code",
      "execution_count": null,
      "id": "61db84ff",
      "metadata": {
        "id": "61db84ff",
        "outputId": "fb9e2d43-17cf-4271-ca51-ef7b597bb2b8"
      },
      "outputs": [
        {
          "name": "stdout",
          "output_type": "stream",
          "text": [
            "[[0.5        1.         1.5       ]\n",
            " [1.33333333 1.66666667 2.        ]]\n",
            "[[0.5        1.         1.5       ]\n",
            " [1.33333333 1.66666667 2.        ]]\n"
          ]
        }
      ],
      "source": [
        "# Elementwise division\n",
        "\n",
        "print(x / y)\n",
        "print(np.divide(x,y))"
      ]
    },
    {
      "cell_type": "code",
      "execution_count": null,
      "id": "e8f88e80",
      "metadata": {
        "id": "e8f88e80",
        "outputId": "8ea38145-1c93-4437-dfdd-f77d744c7b1c"
      },
      "outputs": [
        {
          "name": "stdout",
          "output_type": "stream",
          "text": [
            "[14 32] \n",
            "\n"
          ]
        }
      ],
      "source": [
        "# Inner product of vectors\n",
        "\n",
        "print(np.dot(x,z), \"\\n\")"
      ]
    },
    {
      "cell_type": "code",
      "execution_count": null,
      "id": "64555b8c",
      "metadata": {
        "id": "64555b8c"
      },
      "outputs": [],
      "source": []
    }
  ],
  "metadata": {
    "kernelspec": {
      "display_name": "Python 3 (ipykernel)",
      "language": "python",
      "name": "python3"
    },
    "language_info": {
      "codemirror_mode": {
        "name": "ipython",
        "version": 3
      },
      "file_extension": ".py",
      "mimetype": "text/x-python",
      "name": "python",
      "nbconvert_exporter": "python",
      "pygments_lexer": "ipython3",
      "version": "3.11.5"
    },
    "colab": {
      "provenance": [],
      "include_colab_link": true
    }
  },
  "nbformat": 4,
  "nbformat_minor": 5
}