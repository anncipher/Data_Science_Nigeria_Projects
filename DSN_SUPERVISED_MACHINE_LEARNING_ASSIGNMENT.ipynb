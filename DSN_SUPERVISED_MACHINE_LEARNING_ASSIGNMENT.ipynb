{
  "cells": [
    {
      "cell_type": "markdown",
      "metadata": {
        "id": "view-in-github",
        "colab_type": "text"
      },
      "source": [
        "<a href=\"https://colab.research.google.com/github/anncipher/Data_Science_Nigeria_Projects/blob/main/DSN_SUPERVISED_MACHINE_LEARNING_ASSIGNMENT.ipynb\" target=\"_parent\"><img src=\"https://colab.research.google.com/assets/colab-badge.svg\" alt=\"Open In Colab\"/></a>"
      ]
    },
    {
      "cell_type": "code",
      "execution_count": null,
      "id": "51a5ce57",
      "metadata": {
        "id": "51a5ce57"
      },
      "outputs": [],
      "source": [
        "# Importing the libraries\n",
        "\n",
        "import numpy as np\n",
        "import pandas as pd\n",
        "import matplotlib.pyplot as plt\n",
        "import seaborn as sns"
      ]
    },
    {
      "cell_type": "code",
      "execution_count": null,
      "id": "df52e2f6",
      "metadata": {
        "id": "df52e2f6",
        "outputId": "6be6e1b6-213a-45c3-90e3-32647cf4cced"
      },
      "outputs": [
        {
          "data": {
            "text/html": [
              "<div>\n",
              "<style scoped>\n",
              "    .dataframe tbody tr th:only-of-type {\n",
              "        vertical-align: middle;\n",
              "    }\n",
              "\n",
              "    .dataframe tbody tr th {\n",
              "        vertical-align: top;\n",
              "    }\n",
              "\n",
              "    .dataframe thead th {\n",
              "        text-align: right;\n",
              "    }\n",
              "</style>\n",
              "<table border=\"1\" class=\"dataframe\">\n",
              "  <thead>\n",
              "    <tr style=\"text-align: right;\">\n",
              "      <th></th>\n",
              "      <th>YearsExperience</th>\n",
              "      <th>Salary</th>\n",
              "    </tr>\n",
              "  </thead>\n",
              "  <tbody>\n",
              "    <tr>\n",
              "      <th>0</th>\n",
              "      <td>1.1</td>\n",
              "      <td>39343.0</td>\n",
              "    </tr>\n",
              "    <tr>\n",
              "      <th>1</th>\n",
              "      <td>1.3</td>\n",
              "      <td>46205.0</td>\n",
              "    </tr>\n",
              "    <tr>\n",
              "      <th>2</th>\n",
              "      <td>1.5</td>\n",
              "      <td>37731.0</td>\n",
              "    </tr>\n",
              "    <tr>\n",
              "      <th>3</th>\n",
              "      <td>2.0</td>\n",
              "      <td>43525.0</td>\n",
              "    </tr>\n",
              "    <tr>\n",
              "      <th>4</th>\n",
              "      <td>2.2</td>\n",
              "      <td>39891.0</td>\n",
              "    </tr>\n",
              "  </tbody>\n",
              "</table>\n",
              "</div>"
            ],
            "text/plain": [
              "   YearsExperience   Salary\n",
              "0              1.1  39343.0\n",
              "1              1.3  46205.0\n",
              "2              1.5  37731.0\n",
              "3              2.0  43525.0\n",
              "4              2.2  39891.0"
            ]
          },
          "execution_count": 4,
          "metadata": {},
          "output_type": "execute_result"
        }
      ],
      "source": [
        "data = pd.read_csv('Downloads/Salary_Data.csv')\n",
        "data.head()"
      ]
    },
    {
      "cell_type": "code",
      "execution_count": null,
      "id": "c70a3e38",
      "metadata": {
        "id": "c70a3e38"
      },
      "outputs": [],
      "source": [
        "# Split the dataset into feature (X) and target (y) and transform into numpy array\n",
        "\n",
        "X = data[['YearsExperience']]\n",
        "y = data['Salary']\n",
        "\n",
        "# train_test_split\n",
        "\n",
        "from sklearn.model_selection import train_test_split\n",
        "\n",
        "X_train, X_test, y_train, y_test = train_test_split(X, y, test_size = 0.2, random_state = 42)"
      ]
    },
    {
      "cell_type": "markdown",
      "id": "b7aa7c7e",
      "metadata": {
        "id": "b7aa7c7e"
      },
      "source": [
        "## 1. What linear regression equation best estimates Salary based on YearsExperience"
      ]
    },
    {
      "cell_type": "code",
      "execution_count": null,
      "id": "377388df",
      "metadata": {
        "id": "377388df",
        "outputId": "de9c0f5f-d035-4713-906a-d19242152234"
      },
      "outputs": [
        {
          "data": {
            "text/html": [
              "<style>#sk-container-id-1 {color: black;}#sk-container-id-1 pre{padding: 0;}#sk-container-id-1 div.sk-toggleable {background-color: white;}#sk-container-id-1 label.sk-toggleable__label {cursor: pointer;display: block;width: 100%;margin-bottom: 0;padding: 0.3em;box-sizing: border-box;text-align: center;}#sk-container-id-1 label.sk-toggleable__label-arrow:before {content: \"▸\";float: left;margin-right: 0.25em;color: #696969;}#sk-container-id-1 label.sk-toggleable__label-arrow:hover:before {color: black;}#sk-container-id-1 div.sk-estimator:hover label.sk-toggleable__label-arrow:before {color: black;}#sk-container-id-1 div.sk-toggleable__content {max-height: 0;max-width: 0;overflow: hidden;text-align: left;background-color: #f0f8ff;}#sk-container-id-1 div.sk-toggleable__content pre {margin: 0.2em;color: black;border-radius: 0.25em;background-color: #f0f8ff;}#sk-container-id-1 input.sk-toggleable__control:checked~div.sk-toggleable__content {max-height: 200px;max-width: 100%;overflow: auto;}#sk-container-id-1 input.sk-toggleable__control:checked~label.sk-toggleable__label-arrow:before {content: \"▾\";}#sk-container-id-1 div.sk-estimator input.sk-toggleable__control:checked~label.sk-toggleable__label {background-color: #d4ebff;}#sk-container-id-1 div.sk-label input.sk-toggleable__control:checked~label.sk-toggleable__label {background-color: #d4ebff;}#sk-container-id-1 input.sk-hidden--visually {border: 0;clip: rect(1px 1px 1px 1px);clip: rect(1px, 1px, 1px, 1px);height: 1px;margin: -1px;overflow: hidden;padding: 0;position: absolute;width: 1px;}#sk-container-id-1 div.sk-estimator {font-family: monospace;background-color: #f0f8ff;border: 1px dotted black;border-radius: 0.25em;box-sizing: border-box;margin-bottom: 0.5em;}#sk-container-id-1 div.sk-estimator:hover {background-color: #d4ebff;}#sk-container-id-1 div.sk-parallel-item::after {content: \"\";width: 100%;border-bottom: 1px solid gray;flex-grow: 1;}#sk-container-id-1 div.sk-label:hover label.sk-toggleable__label {background-color: #d4ebff;}#sk-container-id-1 div.sk-serial::before {content: \"\";position: absolute;border-left: 1px solid gray;box-sizing: border-box;top: 0;bottom: 0;left: 50%;z-index: 0;}#sk-container-id-1 div.sk-serial {display: flex;flex-direction: column;align-items: center;background-color: white;padding-right: 0.2em;padding-left: 0.2em;position: relative;}#sk-container-id-1 div.sk-item {position: relative;z-index: 1;}#sk-container-id-1 div.sk-parallel {display: flex;align-items: stretch;justify-content: center;background-color: white;position: relative;}#sk-container-id-1 div.sk-item::before, #sk-container-id-1 div.sk-parallel-item::before {content: \"\";position: absolute;border-left: 1px solid gray;box-sizing: border-box;top: 0;bottom: 0;left: 50%;z-index: -1;}#sk-container-id-1 div.sk-parallel-item {display: flex;flex-direction: column;z-index: 1;position: relative;background-color: white;}#sk-container-id-1 div.sk-parallel-item:first-child::after {align-self: flex-end;width: 50%;}#sk-container-id-1 div.sk-parallel-item:last-child::after {align-self: flex-start;width: 50%;}#sk-container-id-1 div.sk-parallel-item:only-child::after {width: 0;}#sk-container-id-1 div.sk-dashed-wrapped {border: 1px dashed gray;margin: 0 0.4em 0.5em 0.4em;box-sizing: border-box;padding-bottom: 0.4em;background-color: white;}#sk-container-id-1 div.sk-label label {font-family: monospace;font-weight: bold;display: inline-block;line-height: 1.2em;}#sk-container-id-1 div.sk-label-container {text-align: center;}#sk-container-id-1 div.sk-container {/* jupyter's `normalize.less` sets `[hidden] { display: none; }` but bootstrap.min.css set `[hidden] { display: none !important; }` so we also need the `!important` here to be able to override the default hidden behavior on the sphinx rendered scikit-learn.org. See: https://github.com/scikit-learn/scikit-learn/issues/21755 */display: inline-block !important;position: relative;}#sk-container-id-1 div.sk-text-repr-fallback {display: none;}</style><div id=\"sk-container-id-1\" class=\"sk-top-container\"><div class=\"sk-text-repr-fallback\"><pre>LinearRegression()</pre><b>In a Jupyter environment, please rerun this cell to show the HTML representation or trust the notebook. <br />On GitHub, the HTML representation is unable to render, please try loading this page with nbviewer.org.</b></div><div class=\"sk-container\" hidden><div class=\"sk-item\"><div class=\"sk-estimator sk-toggleable\"><input class=\"sk-toggleable__control sk-hidden--visually\" id=\"sk-estimator-id-1\" type=\"checkbox\" checked><label for=\"sk-estimator-id-1\" class=\"sk-toggleable__label sk-toggleable__label-arrow\">LinearRegression</label><div class=\"sk-toggleable__content\"><pre>LinearRegression()</pre></div></div></div></div></div>"
            ],
            "text/plain": [
              "LinearRegression()"
            ]
          },
          "execution_count": 6,
          "metadata": {},
          "output_type": "execute_result"
        }
      ],
      "source": [
        "# Uisng Sklearn, train the model and generate the regression equation\n",
        "# Fitting Simple Linear Regression to the Dataset\n",
        "\n",
        "from sklearn.linear_model import LinearRegression\n",
        "regressor = LinearRegression()\n",
        "regressor.fit(X, y)"
      ]
    },
    {
      "cell_type": "code",
      "execution_count": null,
      "id": "48b12603",
      "metadata": {
        "id": "48b12603",
        "outputId": "7b2ab219-6b23-4217-c5e0-b0e0029c4a1a"
      },
      "outputs": [
        {
          "data": {
            "text/plain": [
              "0.9569566641435086"
            ]
          },
          "execution_count": 7,
          "metadata": {},
          "output_type": "execute_result"
        }
      ],
      "source": [
        "# Coefficient of determination\n",
        "\n",
        "regressor.score(X, y)"
      ]
    },
    {
      "cell_type": "code",
      "execution_count": null,
      "id": "7d11b4cd",
      "metadata": {
        "id": "7d11b4cd",
        "outputId": "9397c3fd-3134-478b-863c-8fda919f9a32"
      },
      "outputs": [
        {
          "name": "stdout",
          "output_type": "stream",
          "text": [
            "25792.20019866871\n"
          ]
        }
      ],
      "source": [
        "# Intercept b0\n",
        "\n",
        "print(regressor.intercept_)"
      ]
    },
    {
      "cell_type": "code",
      "execution_count": null,
      "id": "e2c22955",
      "metadata": {
        "id": "e2c22955",
        "outputId": "4f055fd4-6b5c-49af-9dbd-3b4132a6f77a"
      },
      "outputs": [
        {
          "data": {
            "text/plain": [
              "array([9449.96232146])"
            ]
          },
          "execution_count": 9,
          "metadata": {},
          "output_type": "execute_result"
        }
      ],
      "source": [
        "# Coefficient or slope of regression\n",
        "\n",
        "regressor.coef_"
      ]
    },
    {
      "cell_type": "code",
      "execution_count": null,
      "id": "77db602f",
      "metadata": {
        "id": "77db602f",
        "outputId": "3c7dacd5-6855-4e08-b129-f23f6cc3ad21"
      },
      "outputs": [
        {
          "name": "stdout",
          "output_type": "stream",
          "text": [
            "                 YearsExperience    Salary\n",
            "YearsExperience         1.000000  0.978242\n",
            "Salary                  0.978242  1.000000\n"
          ]
        }
      ],
      "source": [
        "# Checking correlation between variables\n",
        "\n",
        "cor = data.corr()\n",
        "print(cor)"
      ]
    },
    {
      "cell_type": "markdown",
      "id": "3eeff7f9",
      "metadata": {
        "id": "3eeff7f9"
      },
      "source": [
        "### Answer: The Linear Regression equation that best estimates is Predicted Salary (yhat) = 9449.96X + 25792.20"
      ]
    },
    {
      "cell_type": "markdown",
      "id": "ac0acace",
      "metadata": {
        "id": "ac0acace"
      },
      "source": [
        "## 2. What new value of y will the linear regression equation suggest in line with 20% split of the previous salary?\n"
      ]
    },
    {
      "cell_type": "code",
      "execution_count": null,
      "id": "5c83ea54",
      "metadata": {
        "id": "5c83ea54"
      },
      "outputs": [],
      "source": [
        "# Predicting the Data\n",
        "\n",
        "y_pred = regressor.predict(X)\n"
      ]
    },
    {
      "cell_type": "code",
      "execution_count": null,
      "id": "7152d6ac",
      "metadata": {
        "id": "7152d6ac",
        "outputId": "7ede804b-326e-4be0-fd85-a0767417eed5"
      },
      "outputs": [
        {
          "data": {
            "image/png": "[encoded data removed]",
            "text/plain": [
              "<Figure size 640x480 with 1 Axes>"
            ]
          },
          "metadata": {},
          "output_type": "display_data"
        }
      ],
      "source": [
        "# Visualizing results using a scatterplot of X on y data\n",
        "\n",
        "plt.scatter(X, y, color = 'blue')\n",
        "plt.plot(X, regressor.predict(X), color = 'green')\n",
        "\n",
        "\n",
        "# Also draw a line plot of X against predicted y\n",
        "\n",
        "plt.title('Simple Linear Regression of YearsExperience vs Salary')\n",
        "plt.xlabel('YearsExperience')\n",
        "plt.ylabel('Salary')\n",
        "plt.show()"
      ]
    },
    {
      "cell_type": "code",
      "execution_count": null,
      "id": "bc9829f3",
      "metadata": {
        "id": "bc9829f3",
        "outputId": "e7e31896-716b-40cc-b4ee-260227f37cdb"
      },
      "outputs": [
        {
          "data": {
            "text/html": [
              "<div>\n",
              "<style scoped>\n",
              "    .dataframe tbody tr th:only-of-type {\n",
              "        vertical-align: middle;\n",
              "    }\n",
              "\n",
              "    .dataframe tbody tr th {\n",
              "        vertical-align: top;\n",
              "    }\n",
              "\n",
              "    .dataframe thead th {\n",
              "        text-align: right;\n",
              "    }\n",
              "</style>\n",
              "<table border=\"1\" class=\"dataframe\">\n",
              "  <thead>\n",
              "    <tr style=\"text-align: right;\">\n",
              "      <th></th>\n",
              "      <th>YearsExperience</th>\n",
              "      <th>Salary</th>\n",
              "      <th>yhat</th>\n",
              "      <th>Predicted Salary</th>\n",
              "    </tr>\n",
              "  </thead>\n",
              "  <tbody>\n",
              "    <tr>\n",
              "      <th>0</th>\n",
              "      <td>1.1</td>\n",
              "      <td>39343.0</td>\n",
              "      <td>36187.158752</td>\n",
              "      <td>36187.158752</td>\n",
              "    </tr>\n",
              "    <tr>\n",
              "      <th>1</th>\n",
              "      <td>1.3</td>\n",
              "      <td>46205.0</td>\n",
              "      <td>38077.151217</td>\n",
              "      <td>38077.151217</td>\n",
              "    </tr>\n",
              "    <tr>\n",
              "      <th>2</th>\n",
              "      <td>1.5</td>\n",
              "      <td>37731.0</td>\n",
              "      <td>39967.143681</td>\n",
              "      <td>39967.143681</td>\n",
              "    </tr>\n",
              "    <tr>\n",
              "      <th>3</th>\n",
              "      <td>2.0</td>\n",
              "      <td>43525.0</td>\n",
              "      <td>44692.124842</td>\n",
              "      <td>44692.124842</td>\n",
              "    </tr>\n",
              "    <tr>\n",
              "      <th>4</th>\n",
              "      <td>2.2</td>\n",
              "      <td>39891.0</td>\n",
              "      <td>46582.117306</td>\n",
              "      <td>46582.117306</td>\n",
              "    </tr>\n",
              "    <tr>\n",
              "      <th>5</th>\n",
              "      <td>2.9</td>\n",
              "      <td>56642.0</td>\n",
              "      <td>53197.090931</td>\n",
              "      <td>53197.090931</td>\n",
              "    </tr>\n",
              "    <tr>\n",
              "      <th>6</th>\n",
              "      <td>3.0</td>\n",
              "      <td>60150.0</td>\n",
              "      <td>54142.087163</td>\n",
              "      <td>54142.087163</td>\n",
              "    </tr>\n",
              "    <tr>\n",
              "      <th>7</th>\n",
              "      <td>3.2</td>\n",
              "      <td>54445.0</td>\n",
              "      <td>56032.079627</td>\n",
              "      <td>56032.079627</td>\n",
              "    </tr>\n",
              "    <tr>\n",
              "      <th>8</th>\n",
              "      <td>3.2</td>\n",
              "      <td>64445.0</td>\n",
              "      <td>56032.079627</td>\n",
              "      <td>56032.079627</td>\n",
              "    </tr>\n",
              "    <tr>\n",
              "      <th>9</th>\n",
              "      <td>3.7</td>\n",
              "      <td>57189.0</td>\n",
              "      <td>60757.060788</td>\n",
              "      <td>60757.060788</td>\n",
              "    </tr>\n",
              "    <tr>\n",
              "      <th>10</th>\n",
              "      <td>3.9</td>\n",
              "      <td>63218.0</td>\n",
              "      <td>62647.053252</td>\n",
              "      <td>62647.053252</td>\n",
              "    </tr>\n",
              "    <tr>\n",
              "      <th>11</th>\n",
              "      <td>4.0</td>\n",
              "      <td>55794.0</td>\n",
              "      <td>63592.049484</td>\n",
              "      <td>63592.049484</td>\n",
              "    </tr>\n",
              "    <tr>\n",
              "      <th>12</th>\n",
              "      <td>4.0</td>\n",
              "      <td>56957.0</td>\n",
              "      <td>63592.049484</td>\n",
              "      <td>63592.049484</td>\n",
              "    </tr>\n",
              "    <tr>\n",
              "      <th>13</th>\n",
              "      <td>4.1</td>\n",
              "      <td>57081.0</td>\n",
              "      <td>64537.045717</td>\n",
              "      <td>64537.045717</td>\n",
              "    </tr>\n",
              "    <tr>\n",
              "      <th>14</th>\n",
              "      <td>4.5</td>\n",
              "      <td>61111.0</td>\n",
              "      <td>68317.030645</td>\n",
              "      <td>68317.030645</td>\n",
              "    </tr>\n",
              "    <tr>\n",
              "      <th>15</th>\n",
              "      <td>4.9</td>\n",
              "      <td>67938.0</td>\n",
              "      <td>72097.015574</td>\n",
              "      <td>72097.015574</td>\n",
              "    </tr>\n",
              "    <tr>\n",
              "      <th>16</th>\n",
              "      <td>5.1</td>\n",
              "      <td>66029.0</td>\n",
              "      <td>73987.008038</td>\n",
              "      <td>73987.008038</td>\n",
              "    </tr>\n",
              "    <tr>\n",
              "      <th>17</th>\n",
              "      <td>5.3</td>\n",
              "      <td>83088.0</td>\n",
              "      <td>75877.000502</td>\n",
              "      <td>75877.000502</td>\n",
              "    </tr>\n",
              "    <tr>\n",
              "      <th>18</th>\n",
              "      <td>5.9</td>\n",
              "      <td>81363.0</td>\n",
              "      <td>81546.977895</td>\n",
              "      <td>81546.977895</td>\n",
              "    </tr>\n",
              "    <tr>\n",
              "      <th>19</th>\n",
              "      <td>6.0</td>\n",
              "      <td>93940.0</td>\n",
              "      <td>82491.974127</td>\n",
              "      <td>82491.974127</td>\n",
              "    </tr>\n",
              "    <tr>\n",
              "      <th>20</th>\n",
              "      <td>6.8</td>\n",
              "      <td>91738.0</td>\n",
              "      <td>90051.943985</td>\n",
              "      <td>90051.943985</td>\n",
              "    </tr>\n",
              "    <tr>\n",
              "      <th>21</th>\n",
              "      <td>7.1</td>\n",
              "      <td>98273.0</td>\n",
              "      <td>92886.932681</td>\n",
              "      <td>92886.932681</td>\n",
              "    </tr>\n",
              "    <tr>\n",
              "      <th>22</th>\n",
              "      <td>7.9</td>\n",
              "      <td>101302.0</td>\n",
              "      <td>100446.902538</td>\n",
              "      <td>100446.902538</td>\n",
              "    </tr>\n",
              "    <tr>\n",
              "      <th>23</th>\n",
              "      <td>8.2</td>\n",
              "      <td>113812.0</td>\n",
              "      <td>103281.891235</td>\n",
              "      <td>103281.891235</td>\n",
              "    </tr>\n",
              "    <tr>\n",
              "      <th>24</th>\n",
              "      <td>8.7</td>\n",
              "      <td>109431.0</td>\n",
              "      <td>108006.872395</td>\n",
              "      <td>108006.872395</td>\n",
              "    </tr>\n",
              "    <tr>\n",
              "      <th>25</th>\n",
              "      <td>9.0</td>\n",
              "      <td>105582.0</td>\n",
              "      <td>110841.861092</td>\n",
              "      <td>110841.861092</td>\n",
              "    </tr>\n",
              "    <tr>\n",
              "      <th>26</th>\n",
              "      <td>9.5</td>\n",
              "      <td>116969.0</td>\n",
              "      <td>115566.842252</td>\n",
              "      <td>115566.842252</td>\n",
              "    </tr>\n",
              "    <tr>\n",
              "      <th>27</th>\n",
              "      <td>9.6</td>\n",
              "      <td>112635.0</td>\n",
              "      <td>116511.838485</td>\n",
              "      <td>116511.838485</td>\n",
              "    </tr>\n",
              "    <tr>\n",
              "      <th>28</th>\n",
              "      <td>10.3</td>\n",
              "      <td>122391.0</td>\n",
              "      <td>123126.812110</td>\n",
              "      <td>123126.812110</td>\n",
              "    </tr>\n",
              "    <tr>\n",
              "      <th>29</th>\n",
              "      <td>10.5</td>\n",
              "      <td>121872.0</td>\n",
              "      <td>125016.804574</td>\n",
              "      <td>125016.804574</td>\n",
              "    </tr>\n",
              "  </tbody>\n",
              "</table>\n",
              "</div>"
            ],
            "text/plain": [
              "    YearsExperience    Salary           yhat  Predicted Salary\n",
              "0               1.1   39343.0   36187.158752      36187.158752\n",
              "1               1.3   46205.0   38077.151217      38077.151217\n",
              "2               1.5   37731.0   39967.143681      39967.143681\n",
              "3               2.0   43525.0   44692.124842      44692.124842\n",
              "4               2.2   39891.0   46582.117306      46582.117306\n",
              "5               2.9   56642.0   53197.090931      53197.090931\n",
              "6               3.0   60150.0   54142.087163      54142.087163\n",
              "7               3.2   54445.0   56032.079627      56032.079627\n",
              "8               3.2   64445.0   56032.079627      56032.079627\n",
              "9               3.7   57189.0   60757.060788      60757.060788\n",
              "10              3.9   63218.0   62647.053252      62647.053252\n",
              "11              4.0   55794.0   63592.049484      63592.049484\n",
              "12              4.0   56957.0   63592.049484      63592.049484\n",
              "13              4.1   57081.0   64537.045717      64537.045717\n",
              "14              4.5   61111.0   68317.030645      68317.030645\n",
              "15              4.9   67938.0   72097.015574      72097.015574\n",
              "16              5.1   66029.0   73987.008038      73987.008038\n",
              "17              5.3   83088.0   75877.000502      75877.000502\n",
              "18              5.9   81363.0   81546.977895      81546.977895\n",
              "19              6.0   93940.0   82491.974127      82491.974127\n",
              "20              6.8   91738.0   90051.943985      90051.943985\n",
              "21              7.1   98273.0   92886.932681      92886.932681\n",
              "22              7.9  101302.0  100446.902538     100446.902538\n",
              "23              8.2  113812.0  103281.891235     103281.891235\n",
              "24              8.7  109431.0  108006.872395     108006.872395\n",
              "25              9.0  105582.0  110841.861092     110841.861092\n",
              "26              9.5  116969.0  115566.842252     115566.842252\n",
              "27              9.6  112635.0  116511.838485     116511.838485\n",
              "28             10.3  122391.0  123126.812110     123126.812110\n",
              "29             10.5  121872.0  125016.804574     125016.804574"
            ]
          },
          "execution_count": 19,
          "metadata": {},
          "output_type": "execute_result"
        }
      ],
      "source": [
        "# Adding the result column to the existing data table\n",
        "\n",
        "data['yhat'] = y_pred\n",
        "data"
      ]
    },
    {
      "cell_type": "code",
      "execution_count": null,
      "id": "6792fc09",
      "metadata": {
        "id": "6792fc09",
        "outputId": "c912214a-fbf8-4439-8fc2-022f70bee3de"
      },
      "outputs": [
        {
          "data": {
            "image/png": "[encoded data removed]",
            "text/plain": [
              "<Figure size 1600x1000 with 1 Axes>"
            ]
          },
          "metadata": {},
          "output_type": "display_data"
        }
      ],
      "source": [
        "# A bar plot showing the difference between Actual Salary (y) and Predicted Salary (yhat)\n",
        "\n",
        "data[['Salary', 'Predicted Salary']].plot(kind = 'bar', figsize = (16,10))\n",
        "\n",
        "plt.grid(which = 'major', linestyle = '-', linewidth = '0.5', color = 'red')\n",
        "plt.grid(which = 'minor', linestyle = ':', linewidth = '0.5', color = 'black')\n",
        "plt.show()"
      ]
    },
    {
      "cell_type": "markdown",
      "id": "7182b963",
      "metadata": {
        "id": "7182b963"
      },
      "source": [
        "## 3. How well does the regression equation fit the data?"
      ]
    },
    {
      "cell_type": "code",
      "execution_count": null,
      "id": "3185ab7b",
      "metadata": {
        "id": "3185ab7b"
      },
      "outputs": [],
      "source": [
        "# Slicing out the Actual Salary (y) and Predicted Salary (yhat)\n",
        "\n",
        "result = data[['Salary', 'Predicted Salary']]"
      ]
    },
    {
      "cell_type": "code",
      "execution_count": null,
      "id": "8546a999",
      "metadata": {
        "id": "8546a999",
        "outputId": "9d7fbe0e-3d87-434f-f696-81f045ff9006"
      },
      "outputs": [
        {
          "name": "stdout",
          "output_type": "stream",
          "text": [
            "      Salary  Predicted Salary         error\n",
            "0    39343.0      36187.158752   3155.841248\n",
            "1    46205.0      38077.151217   8127.848783\n",
            "2    37731.0      39967.143681  -2236.143681\n",
            "3    43525.0      44692.124842  -1167.124842\n",
            "4    39891.0      46582.117306  -6691.117306\n",
            "5    56642.0      53197.090931   3444.909069\n",
            "6    60150.0      54142.087163   6007.912837\n",
            "7    54445.0      56032.079627  -1587.079627\n",
            "8    64445.0      56032.079627   8412.920373\n",
            "9    57189.0      60757.060788  -3568.060788\n",
            "10   63218.0      62647.053252    570.946748\n",
            "11   55794.0      63592.049484  -7798.049484\n",
            "12   56957.0      63592.049484  -6635.049484\n",
            "13   57081.0      64537.045717  -7456.045717\n",
            "14   61111.0      68317.030645  -7206.030645\n",
            "15   67938.0      72097.015574  -4159.015574\n",
            "16   66029.0      73987.008038  -7958.008038\n",
            "17   83088.0      75877.000502   7210.999498\n",
            "18   81363.0      81546.977895   -183.977895\n",
            "19   93940.0      82491.974127  11448.025873\n",
            "20   91738.0      90051.943985   1686.056015\n",
            "21   98273.0      92886.932681   5386.067319\n",
            "22  101302.0     100446.902538    855.097462\n",
            "23  113812.0     103281.891235  10530.108765\n",
            "24  109431.0     108006.872395   1424.127605\n",
            "25  105582.0     110841.861092  -5259.861092\n",
            "26  116969.0     115566.842252   1402.157748\n",
            "27  112635.0     116511.838485  -3876.838485\n",
            "28  122391.0     123126.812110   -735.812110\n",
            "29  121872.0     125016.804574  -3144.804574\n",
            "\n",
            "139326.03868330613\n",
            "4644.2012894435375\n",
            "5592.043608760662\n"
          ]
        },
        {
          "name": "stderr",
          "output_type": "stream",
          "text": [
            "C:\\Users\\DELL\\AppData\\Local\\Temp\\ipykernel_6644\\989008734.py:7: SettingWithCopyWarning: \n",
            "A value is trying to be set on a copy of a slice from a DataFrame.\n",
            "Try using .loc[row_indexer,col_indexer] = value instead\n",
            "\n",
            "See the caveats in the documentation: https://pandas.pydata.org/pandas-docs/stable/user_guide/indexing.html#returning-a-view-versus-a-copy\n",
            "  result['error'] = data['Salary'].subtract(data['Predicted Salary'])\n"
          ]
        }
      ],
      "source": [
        "# Creating a column in the result to store mean errors from all observations\n",
        "\n",
        "n = len(data)\n",
        "\n",
        "# Error from each prediction\n",
        "\n",
        "result['error'] = data['Salary'].subtract(data['Predicted Salary'])\n",
        "\n",
        "print(result)\n",
        "\n",
        "# Calculating Root Mean Square error: rsme\n",
        "\n",
        "mse = np.mean((data['Predicted Salary'] - data['Salary']) ** 2)\n",
        "\n",
        "# Summation of all error function from all predictions\n",
        "\n",
        "cost_function = abs(result['error']).sum()\n",
        "Mean_Absolute_Error = cost_function / n\n",
        "Root_Mean_Squared_Error = np.sqrt(mse)\n",
        "\n",
        "print()\n",
        "print(cost_function)\n",
        "print(Mean_Absolute_Error)\n",
        "print(Root_Mean_Squared_Error)"
      ]
    },
    {
      "cell_type": "markdown",
      "id": "287aa77a",
      "metadata": {
        "id": "287aa77a"
      },
      "source": [
        "### Using Engineered Features"
      ]
    },
    {
      "cell_type": "markdown",
      "id": "eed356d1",
      "metadata": {
        "id": "eed356d1"
      },
      "source": [
        "1. Using Income Category [Interquartile Ranges] based on Salary earned"
      ]
    },
    {
      "cell_type": "code",
      "execution_count": null,
      "id": "710308bc",
      "metadata": {
        "id": "710308bc",
        "outputId": "87d78464-8963-4380-f383-79a72dae4b49"
      },
      "outputs": [
        {
          "data": {
            "text/html": [
              "<div>\n",
              "<style scoped>\n",
              "    .dataframe tbody tr th:only-of-type {\n",
              "        vertical-align: middle;\n",
              "    }\n",
              "\n",
              "    .dataframe tbody tr th {\n",
              "        vertical-align: top;\n",
              "    }\n",
              "\n",
              "    .dataframe thead th {\n",
              "        text-align: right;\n",
              "    }\n",
              "</style>\n",
              "<table border=\"1\" class=\"dataframe\">\n",
              "  <thead>\n",
              "    <tr style=\"text-align: right;\">\n",
              "      <th></th>\n",
              "      <th>YearsExperience</th>\n",
              "      <th>Salary</th>\n",
              "      <th>yhat</th>\n",
              "      <th>Predicted Salary</th>\n",
              "      <th>Income Category</th>\n",
              "    </tr>\n",
              "  </thead>\n",
              "  <tbody>\n",
              "    <tr>\n",
              "      <th>0</th>\n",
              "      <td>1.1</td>\n",
              "      <td>39343.0</td>\n",
              "      <td>36187.158752</td>\n",
              "      <td>36187.158752</td>\n",
              "      <td>Low</td>\n",
              "    </tr>\n",
              "    <tr>\n",
              "      <th>1</th>\n",
              "      <td>1.3</td>\n",
              "      <td>46205.0</td>\n",
              "      <td>38077.151217</td>\n",
              "      <td>38077.151217</td>\n",
              "      <td>Low</td>\n",
              "    </tr>\n",
              "    <tr>\n",
              "      <th>2</th>\n",
              "      <td>1.5</td>\n",
              "      <td>37731.0</td>\n",
              "      <td>39967.143681</td>\n",
              "      <td>39967.143681</td>\n",
              "      <td>Low</td>\n",
              "    </tr>\n",
              "    <tr>\n",
              "      <th>3</th>\n",
              "      <td>2.0</td>\n",
              "      <td>43525.0</td>\n",
              "      <td>44692.124842</td>\n",
              "      <td>44692.124842</td>\n",
              "      <td>Low</td>\n",
              "    </tr>\n",
              "    <tr>\n",
              "      <th>4</th>\n",
              "      <td>2.2</td>\n",
              "      <td>39891.0</td>\n",
              "      <td>46582.117306</td>\n",
              "      <td>46582.117306</td>\n",
              "      <td>Low</td>\n",
              "    </tr>\n",
              "  </tbody>\n",
              "</table>\n",
              "</div>"
            ],
            "text/plain": [
              "   YearsExperience   Salary          yhat  Predicted Salary Income Category\n",
              "0              1.1  39343.0  36187.158752      36187.158752             Low\n",
              "1              1.3  46205.0  38077.151217      38077.151217             Low\n",
              "2              1.5  37731.0  39967.143681      39967.143681             Low\n",
              "3              2.0  43525.0  44692.124842      44692.124842             Low\n",
              "4              2.2  39891.0  46582.117306      46582.117306             Low"
            ]
          },
          "execution_count": 25,
          "metadata": {},
          "output_type": "execute_result"
        }
      ],
      "source": [
        "data['Income Category'] = pd.qcut(data['Salary'], 3, labels = ['Low', 'Average', 'High'])\n",
        "data.head()"
      ]
    },
    {
      "cell_type": "markdown",
      "id": "b91819e0",
      "metadata": {
        "id": "b91819e0"
      },
      "source": [
        "2. Using Skills Category\n",
        "\n",
        "Novice[0-2], Intermediate[3-5], Expert[6-11]"
      ]
    },
    {
      "cell_type": "code",
      "execution_count": null,
      "id": "c0d41bf6",
      "metadata": {
        "id": "c0d41bf6",
        "outputId": "b02428cf-6c25-4cfa-b6c8-79f48f310f86"
      },
      "outputs": [
        {
          "data": {
            "text/html": [
              "<div>\n",
              "<style scoped>\n",
              "    .dataframe tbody tr th:only-of-type {\n",
              "        vertical-align: middle;\n",
              "    }\n",
              "\n",
              "    .dataframe tbody tr th {\n",
              "        vertical-align: top;\n",
              "    }\n",
              "\n",
              "    .dataframe thead th {\n",
              "        text-align: right;\n",
              "    }\n",
              "</style>\n",
              "<table border=\"1\" class=\"dataframe\">\n",
              "  <thead>\n",
              "    <tr style=\"text-align: right;\">\n",
              "      <th></th>\n",
              "      <th>YearsExperience</th>\n",
              "      <th>Salary</th>\n",
              "      <th>yhat</th>\n",
              "      <th>Predicted Salary</th>\n",
              "      <th>Income Category</th>\n",
              "      <th>Skills Category</th>\n",
              "    </tr>\n",
              "  </thead>\n",
              "  <tbody>\n",
              "    <tr>\n",
              "      <th>0</th>\n",
              "      <td>1.1</td>\n",
              "      <td>39343.0</td>\n",
              "      <td>36187.158752</td>\n",
              "      <td>36187.158752</td>\n",
              "      <td>Low</td>\n",
              "      <td>Novice</td>\n",
              "    </tr>\n",
              "    <tr>\n",
              "      <th>1</th>\n",
              "      <td>1.3</td>\n",
              "      <td>46205.0</td>\n",
              "      <td>38077.151217</td>\n",
              "      <td>38077.151217</td>\n",
              "      <td>Low</td>\n",
              "      <td>Novice</td>\n",
              "    </tr>\n",
              "    <tr>\n",
              "      <th>2</th>\n",
              "      <td>1.5</td>\n",
              "      <td>37731.0</td>\n",
              "      <td>39967.143681</td>\n",
              "      <td>39967.143681</td>\n",
              "      <td>Low</td>\n",
              "      <td>Novice</td>\n",
              "    </tr>\n",
              "    <tr>\n",
              "      <th>3</th>\n",
              "      <td>2.0</td>\n",
              "      <td>43525.0</td>\n",
              "      <td>44692.124842</td>\n",
              "      <td>44692.124842</td>\n",
              "      <td>Low</td>\n",
              "      <td>Novice</td>\n",
              "    </tr>\n",
              "    <tr>\n",
              "      <th>4</th>\n",
              "      <td>2.2</td>\n",
              "      <td>39891.0</td>\n",
              "      <td>46582.117306</td>\n",
              "      <td>46582.117306</td>\n",
              "      <td>Low</td>\n",
              "      <td>Novice</td>\n",
              "    </tr>\n",
              "    <tr>\n",
              "      <th>5</th>\n",
              "      <td>2.9</td>\n",
              "      <td>56642.0</td>\n",
              "      <td>53197.090931</td>\n",
              "      <td>53197.090931</td>\n",
              "      <td>Low</td>\n",
              "      <td>Novice</td>\n",
              "    </tr>\n",
              "    <tr>\n",
              "      <th>6</th>\n",
              "      <td>3.0</td>\n",
              "      <td>60150.0</td>\n",
              "      <td>54142.087163</td>\n",
              "      <td>54142.087163</td>\n",
              "      <td>Average</td>\n",
              "      <td>Intermediate</td>\n",
              "    </tr>\n",
              "    <tr>\n",
              "      <th>7</th>\n",
              "      <td>3.2</td>\n",
              "      <td>54445.0</td>\n",
              "      <td>56032.079627</td>\n",
              "      <td>56032.079627</td>\n",
              "      <td>Low</td>\n",
              "      <td>Intermediate</td>\n",
              "    </tr>\n",
              "    <tr>\n",
              "      <th>8</th>\n",
              "      <td>3.2</td>\n",
              "      <td>64445.0</td>\n",
              "      <td>56032.079627</td>\n",
              "      <td>56032.079627</td>\n",
              "      <td>Average</td>\n",
              "      <td>Intermediate</td>\n",
              "    </tr>\n",
              "    <tr>\n",
              "      <th>9</th>\n",
              "      <td>3.7</td>\n",
              "      <td>57189.0</td>\n",
              "      <td>60757.060788</td>\n",
              "      <td>60757.060788</td>\n",
              "      <td>Average</td>\n",
              "      <td>Intermediate</td>\n",
              "    </tr>\n",
              "    <tr>\n",
              "      <th>10</th>\n",
              "      <td>3.9</td>\n",
              "      <td>63218.0</td>\n",
              "      <td>62647.053252</td>\n",
              "      <td>62647.053252</td>\n",
              "      <td>Average</td>\n",
              "      <td>Intermediate</td>\n",
              "    </tr>\n",
              "    <tr>\n",
              "      <th>11</th>\n",
              "      <td>4.0</td>\n",
              "      <td>55794.0</td>\n",
              "      <td>63592.049484</td>\n",
              "      <td>63592.049484</td>\n",
              "      <td>Low</td>\n",
              "      <td>Intermediate</td>\n",
              "    </tr>\n",
              "    <tr>\n",
              "      <th>12</th>\n",
              "      <td>4.0</td>\n",
              "      <td>56957.0</td>\n",
              "      <td>63592.049484</td>\n",
              "      <td>63592.049484</td>\n",
              "      <td>Low</td>\n",
              "      <td>Intermediate</td>\n",
              "    </tr>\n",
              "    <tr>\n",
              "      <th>13</th>\n",
              "      <td>4.1</td>\n",
              "      <td>57081.0</td>\n",
              "      <td>64537.045717</td>\n",
              "      <td>64537.045717</td>\n",
              "      <td>Low</td>\n",
              "      <td>Intermediate</td>\n",
              "    </tr>\n",
              "    <tr>\n",
              "      <th>14</th>\n",
              "      <td>4.5</td>\n",
              "      <td>61111.0</td>\n",
              "      <td>68317.030645</td>\n",
              "      <td>68317.030645</td>\n",
              "      <td>Average</td>\n",
              "      <td>Intermediate</td>\n",
              "    </tr>\n",
              "    <tr>\n",
              "      <th>15</th>\n",
              "      <td>4.9</td>\n",
              "      <td>67938.0</td>\n",
              "      <td>72097.015574</td>\n",
              "      <td>72097.015574</td>\n",
              "      <td>Average</td>\n",
              "      <td>Intermediate</td>\n",
              "    </tr>\n",
              "    <tr>\n",
              "      <th>16</th>\n",
              "      <td>5.1</td>\n",
              "      <td>66029.0</td>\n",
              "      <td>73987.008038</td>\n",
              "      <td>73987.008038</td>\n",
              "      <td>Average</td>\n",
              "      <td>Intermediate</td>\n",
              "    </tr>\n",
              "    <tr>\n",
              "      <th>17</th>\n",
              "      <td>5.3</td>\n",
              "      <td>83088.0</td>\n",
              "      <td>75877.000502</td>\n",
              "      <td>75877.000502</td>\n",
              "      <td>Average</td>\n",
              "      <td>Intermediate</td>\n",
              "    </tr>\n",
              "    <tr>\n",
              "      <th>18</th>\n",
              "      <td>5.9</td>\n",
              "      <td>81363.0</td>\n",
              "      <td>81546.977895</td>\n",
              "      <td>81546.977895</td>\n",
              "      <td>Average</td>\n",
              "      <td>Intermediate</td>\n",
              "    </tr>\n",
              "    <tr>\n",
              "      <th>19</th>\n",
              "      <td>6.0</td>\n",
              "      <td>93940.0</td>\n",
              "      <td>82491.974127</td>\n",
              "      <td>82491.974127</td>\n",
              "      <td>High</td>\n",
              "      <td>Expert</td>\n",
              "    </tr>\n",
              "    <tr>\n",
              "      <th>20</th>\n",
              "      <td>6.8</td>\n",
              "      <td>91738.0</td>\n",
              "      <td>90051.943985</td>\n",
              "      <td>90051.943985</td>\n",
              "      <td>Average</td>\n",
              "      <td>Expert</td>\n",
              "    </tr>\n",
              "    <tr>\n",
              "      <th>21</th>\n",
              "      <td>7.1</td>\n",
              "      <td>98273.0</td>\n",
              "      <td>92886.932681</td>\n",
              "      <td>92886.932681</td>\n",
              "      <td>High</td>\n",
              "      <td>Expert</td>\n",
              "    </tr>\n",
              "    <tr>\n",
              "      <th>22</th>\n",
              "      <td>7.9</td>\n",
              "      <td>101302.0</td>\n",
              "      <td>100446.902538</td>\n",
              "      <td>100446.902538</td>\n",
              "      <td>High</td>\n",
              "      <td>Expert</td>\n",
              "    </tr>\n",
              "    <tr>\n",
              "      <th>23</th>\n",
              "      <td>8.2</td>\n",
              "      <td>113812.0</td>\n",
              "      <td>103281.891235</td>\n",
              "      <td>103281.891235</td>\n",
              "      <td>High</td>\n",
              "      <td>Expert</td>\n",
              "    </tr>\n",
              "    <tr>\n",
              "      <th>24</th>\n",
              "      <td>8.7</td>\n",
              "      <td>109431.0</td>\n",
              "      <td>108006.872395</td>\n",
              "      <td>108006.872395</td>\n",
              "      <td>High</td>\n",
              "      <td>Expert</td>\n",
              "    </tr>\n",
              "    <tr>\n",
              "      <th>25</th>\n",
              "      <td>9.0</td>\n",
              "      <td>105582.0</td>\n",
              "      <td>110841.861092</td>\n",
              "      <td>110841.861092</td>\n",
              "      <td>High</td>\n",
              "      <td>Expert</td>\n",
              "    </tr>\n",
              "    <tr>\n",
              "      <th>26</th>\n",
              "      <td>9.5</td>\n",
              "      <td>116969.0</td>\n",
              "      <td>115566.842252</td>\n",
              "      <td>115566.842252</td>\n",
              "      <td>High</td>\n",
              "      <td>Expert</td>\n",
              "    </tr>\n",
              "    <tr>\n",
              "      <th>27</th>\n",
              "      <td>9.6</td>\n",
              "      <td>112635.0</td>\n",
              "      <td>116511.838485</td>\n",
              "      <td>116511.838485</td>\n",
              "      <td>High</td>\n",
              "      <td>Expert</td>\n",
              "    </tr>\n",
              "    <tr>\n",
              "      <th>28</th>\n",
              "      <td>10.3</td>\n",
              "      <td>122391.0</td>\n",
              "      <td>123126.812110</td>\n",
              "      <td>123126.812110</td>\n",
              "      <td>High</td>\n",
              "      <td>Expert</td>\n",
              "    </tr>\n",
              "    <tr>\n",
              "      <th>29</th>\n",
              "      <td>10.5</td>\n",
              "      <td>121872.0</td>\n",
              "      <td>125016.804574</td>\n",
              "      <td>125016.804574</td>\n",
              "      <td>High</td>\n",
              "      <td>Expert</td>\n",
              "    </tr>\n",
              "  </tbody>\n",
              "</table>\n",
              "</div>"
            ],
            "text/plain": [
              "    YearsExperience    Salary           yhat  Predicted Salary  \\\n",
              "0               1.1   39343.0   36187.158752      36187.158752   \n",
              "1               1.3   46205.0   38077.151217      38077.151217   \n",
              "2               1.5   37731.0   39967.143681      39967.143681   \n",
              "3               2.0   43525.0   44692.124842      44692.124842   \n",
              "4               2.2   39891.0   46582.117306      46582.117306   \n",
              "5               2.9   56642.0   53197.090931      53197.090931   \n",
              "6               3.0   60150.0   54142.087163      54142.087163   \n",
              "7               3.2   54445.0   56032.079627      56032.079627   \n",
              "8               3.2   64445.0   56032.079627      56032.079627   \n",
              "9               3.7   57189.0   60757.060788      60757.060788   \n",
              "10              3.9   63218.0   62647.053252      62647.053252   \n",
              "11              4.0   55794.0   63592.049484      63592.049484   \n",
              "12              4.0   56957.0   63592.049484      63592.049484   \n",
              "13              4.1   57081.0   64537.045717      64537.045717   \n",
              "14              4.5   61111.0   68317.030645      68317.030645   \n",
              "15              4.9   67938.0   72097.015574      72097.015574   \n",
              "16              5.1   66029.0   73987.008038      73987.008038   \n",
              "17              5.3   83088.0   75877.000502      75877.000502   \n",
              "18              5.9   81363.0   81546.977895      81546.977895   \n",
              "19              6.0   93940.0   82491.974127      82491.974127   \n",
              "20              6.8   91738.0   90051.943985      90051.943985   \n",
              "21              7.1   98273.0   92886.932681      92886.932681   \n",
              "22              7.9  101302.0  100446.902538     100446.902538   \n",
              "23              8.2  113812.0  103281.891235     103281.891235   \n",
              "24              8.7  109431.0  108006.872395     108006.872395   \n",
              "25              9.0  105582.0  110841.861092     110841.861092   \n",
              "26              9.5  116969.0  115566.842252     115566.842252   \n",
              "27              9.6  112635.0  116511.838485     116511.838485   \n",
              "28             10.3  122391.0  123126.812110     123126.812110   \n",
              "29             10.5  121872.0  125016.804574     125016.804574   \n",
              "\n",
              "   Income Category Skills Category  \n",
              "0              Low          Novice  \n",
              "1              Low          Novice  \n",
              "2              Low          Novice  \n",
              "3              Low          Novice  \n",
              "4              Low          Novice  \n",
              "5              Low          Novice  \n",
              "6          Average    Intermediate  \n",
              "7              Low    Intermediate  \n",
              "8          Average    Intermediate  \n",
              "9          Average    Intermediate  \n",
              "10         Average    Intermediate  \n",
              "11             Low    Intermediate  \n",
              "12             Low    Intermediate  \n",
              "13             Low    Intermediate  \n",
              "14         Average    Intermediate  \n",
              "15         Average    Intermediate  \n",
              "16         Average    Intermediate  \n",
              "17         Average    Intermediate  \n",
              "18         Average    Intermediate  \n",
              "19            High          Expert  \n",
              "20         Average          Expert  \n",
              "21            High          Expert  \n",
              "22            High          Expert  \n",
              "23            High          Expert  \n",
              "24            High          Expert  \n",
              "25            High          Expert  \n",
              "26            High          Expert  \n",
              "27            High          Expert  \n",
              "28            High          Expert  \n",
              "29            High          Expert  "
            ]
          },
          "execution_count": 28,
          "metadata": {},
          "output_type": "execute_result"
        }
      ],
      "source": [
        "# Using Skills Category\n",
        "\n",
        "data['Skills Category'] = ['Novice' if 0 < experience < 3 else 'Intermediate' if 2 < experience < 6 else 'Expert' if 5 < experience < 12 else None\n",
        " for experience in list(data['YearsExperience'].values)]\n",
        "data"
      ]
    },
    {
      "cell_type": "markdown",
      "id": "20a08e73",
      "metadata": {
        "id": "20a08e73"
      },
      "source": [
        "# Visualization of new features\n",
        "\n"
      ]
    },
    {
      "cell_type": "code",
      "execution_count": null,
      "id": "3c4c7e79",
      "metadata": {
        "id": "3c4c7e79"
      },
      "outputs": [],
      "source": [
        "inc_cat = data.groupby('Income Category').count()\n",
        "ski_cat = data.groupby('Skills Category').count()"
      ]
    },
    {
      "cell_type": "code",
      "execution_count": null,
      "id": "b1183893",
      "metadata": {
        "id": "b1183893",
        "outputId": "504ab243-d5c4-445e-a3f6-5d151b9bc080"
      },
      "outputs": [
        {
          "data": {
            "image/png": "[encoded data removed]",
            "text/plain": [
              "<Figure size 640x480 with 1 Axes>"
            ]
          },
          "metadata": {},
          "output_type": "display_data"
        },
        {
          "data": {
            "image/png": "[encoded data removed]",
            "text/plain": [
              "<Figure size 640x480 with 1 Axes>"
            ]
          },
          "metadata": {},
          "output_type": "display_data"
        }
      ],
      "source": [
        "plt.bar(inc_cat.index.values, inc_cat['Salary'])\n",
        "plt.ylabel('Numbers of Users')\n",
        "plt.xlabel('Income Category')\n",
        "plt.show()\n",
        "\n",
        "plt.bar(ski_cat.index.values, ski_cat['YearsExperience'])\n",
        "plt.ylabel('Numbers of Users')\n",
        "plt.xlabel('Skills Category')\n",
        "plt.show()"
      ]
    }
  ],
  "metadata": {
    "kernelspec": {
      "display_name": "Python 3 (ipykernel)",
      "language": "python",
      "name": "python3"
    },
    "language_info": {
      "codemirror_mode": {
        "name": "ipython",
        "version": 3
      },
      "file_extension": ".py",
      "mimetype": "text/x-python",
      "name": "python",
      "nbconvert_exporter": "python",
      "pygments_lexer": "ipython3",
      "version": "3.11.5"
    },
    "colab": {
      "provenance": [],
      "include_colab_link": true
    }
  },
  "nbformat": 4,
  "nbformat_minor": 5
}