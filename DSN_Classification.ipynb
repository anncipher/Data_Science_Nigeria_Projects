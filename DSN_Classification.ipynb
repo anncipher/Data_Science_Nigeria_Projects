{
  "cells": [
    {
      "cell_type": "markdown",
      "metadata": {
        "id": "view-in-github",
        "colab_type": "text"
      },
      "source": [
        "<a href=\"https://colab.research.google.com/github/anncipher/Data_Science_Nigeria_Projects/blob/main/DSN_Classification.ipynb\" target=\"_parent\"><img src=\"https://colab.research.google.com/assets/colab-badge.svg\" alt=\"Open In Colab\"/></a>"
      ]
    },
    {
      "cell_type": "markdown",
      "id": "cdf14d62",
      "metadata": {
        "id": "cdf14d62"
      },
      "source": [
        "Classification algorithms are used to predict labels (discrete values).\n",
        "\n",
        "## Types of Classification\n",
        "\n",
        "1. Binary e.g. email spam detection, biometric identification, whether or not a customer will default\n",
        "2. Multi-class e.g. digit recognition, predict if fruit is mango or orange, dog breed, or predicting a party that wins the election\n",
        "3. Multi-label e.g. two labels at once (a genre of a movie)."
      ]
    },
    {
      "cell_type": "markdown",
      "id": "f275154a",
      "metadata": {
        "id": "f275154a"
      },
      "source": [
        "## Importing Modules"
      ]
    },
    {
      "cell_type": "code",
      "execution_count": null,
      "id": "d4508eeb",
      "metadata": {
        "id": "d4508eeb"
      },
      "outputs": [],
      "source": [
        "import pandas as pd\n",
        "import matplotlib.pyplot as plt\n",
        "import seaborn as sns\n",
        "import numpy as np\n",
        "\n",
        "%matplotlib inline"
      ]
    },
    {
      "cell_type": "code",
      "execution_count": null,
      "id": "ea90285a",
      "metadata": {
        "id": "ea90285a",
        "outputId": "725829ba-deaa-4eb6-f777-4c6d5276e0f4"
      },
      "outputs": [
        {
          "data": {
            "text/html": [
              "<div>\n",
              "<style scoped>\n",
              "    .dataframe tbody tr th:only-of-type {\n",
              "        vertical-align: middle;\n",
              "    }\n",
              "\n",
              "    .dataframe tbody tr th {\n",
              "        vertical-align: top;\n",
              "    }\n",
              "\n",
              "    .dataframe thead th {\n",
              "        text-align: right;\n",
              "    }\n",
              "</style>\n",
              "<table border=\"1\" class=\"dataframe\">\n",
              "  <thead>\n",
              "    <tr style=\"text-align: right;\">\n",
              "      <th></th>\n",
              "      <th>User ID</th>\n",
              "      <th>Gender</th>\n",
              "      <th>Age</th>\n",
              "      <th>EstimatedSalary</th>\n",
              "      <th>Purchased</th>\n",
              "    </tr>\n",
              "  </thead>\n",
              "  <tbody>\n",
              "    <tr>\n",
              "      <th>0</th>\n",
              "      <td>15624510</td>\n",
              "      <td>Male</td>\n",
              "      <td>19</td>\n",
              "      <td>19000</td>\n",
              "      <td>0</td>\n",
              "    </tr>\n",
              "    <tr>\n",
              "      <th>1</th>\n",
              "      <td>15810944</td>\n",
              "      <td>Male</td>\n",
              "      <td>35</td>\n",
              "      <td>20000</td>\n",
              "      <td>0</td>\n",
              "    </tr>\n",
              "    <tr>\n",
              "      <th>2</th>\n",
              "      <td>15668575</td>\n",
              "      <td>Female</td>\n",
              "      <td>26</td>\n",
              "      <td>43000</td>\n",
              "      <td>0</td>\n",
              "    </tr>\n",
              "    <tr>\n",
              "      <th>3</th>\n",
              "      <td>15603246</td>\n",
              "      <td>Female</td>\n",
              "      <td>27</td>\n",
              "      <td>57000</td>\n",
              "      <td>0</td>\n",
              "    </tr>\n",
              "    <tr>\n",
              "      <th>4</th>\n",
              "      <td>15804002</td>\n",
              "      <td>Male</td>\n",
              "      <td>19</td>\n",
              "      <td>76000</td>\n",
              "      <td>0</td>\n",
              "    </tr>\n",
              "  </tbody>\n",
              "</table>\n",
              "</div>"
            ],
            "text/plain": [
              "    User ID  Gender  Age  EstimatedSalary  Purchased\n",
              "0  15624510    Male   19            19000          0\n",
              "1  15810944    Male   35            20000          0\n",
              "2  15668575  Female   26            43000          0\n",
              "3  15603246  Female   27            57000          0\n",
              "4  15804002    Male   19            76000          0"
            ]
          },
          "execution_count": 2,
          "metadata": {},
          "output_type": "execute_result"
        }
      ],
      "source": [
        "data = pd.read_csv('Downloads/Social_Network_Ads.csv', delimiter = ',')\n",
        "data.head()"
      ]
    },
    {
      "cell_type": "code",
      "execution_count": null,
      "id": "885fceda",
      "metadata": {
        "id": "885fceda",
        "outputId": "bca34284-dbc6-4bfb-d5fc-c1b8741eebbc"
      },
      "outputs": [
        {
          "data": {
            "text/plain": [
              "Gender\n",
              "Female    204\n",
              "Male      196\n",
              "Name: count, dtype: int64"
            ]
          },
          "execution_count": 3,
          "metadata": {},
          "output_type": "execute_result"
        }
      ],
      "source": [
        "data['Gender'].value_counts()"
      ]
    },
    {
      "cell_type": "code",
      "execution_count": null,
      "id": "4bae3181",
      "metadata": {
        "id": "4bae3181",
        "outputId": "c0403d08-5c65-4ae6-b44d-3bd48941f29d"
      },
      "outputs": [
        {
          "data": {
            "text/plain": [
              "Purchased\n",
              "0    257\n",
              "1    143\n",
              "Name: count, dtype: int64"
            ]
          },
          "execution_count": 4,
          "metadata": {},
          "output_type": "execute_result"
        }
      ],
      "source": [
        "data['Purchased'].value_counts()"
      ]
    },
    {
      "cell_type": "markdown",
      "id": "2a222407",
      "metadata": {
        "id": "2a222407"
      },
      "source": [
        "## Pre-processing Data"
      ]
    },
    {
      "cell_type": "code",
      "execution_count": null,
      "id": "ff47546c",
      "metadata": {
        "id": "ff47546c",
        "outputId": "cf3dbd91-e95c-489a-ace0-a2a9cd870ecf"
      },
      "outputs": [
        {
          "data": {
            "text/plain": [
              "Gender\n",
              "0    204\n",
              "1    196\n",
              "Name: count, dtype: int64"
            ]
          },
          "execution_count": 11,
          "metadata": {},
          "output_type": "execute_result"
        }
      ],
      "source": [
        "# Creating a Label Encoder object\n",
        "\n",
        "from sklearn.preprocessing import LabelEncoder\n",
        "le = LabelEncoder()\n",
        "\n",
        "# Invoking fit_transform method on object\n",
        "\n",
        "data['Gender'] = le.fit_transform(data['Gender'])\n",
        "data['Gender'].value_counts()"
      ]
    },
    {
      "cell_type": "markdown",
      "id": "d4f9b228",
      "metadata": {
        "id": "d4f9b228"
      },
      "source": [
        "## Exploratory Analysis"
      ]
    },
    {
      "cell_type": "code",
      "execution_count": null,
      "id": "5b8c91b2",
      "metadata": {
        "id": "5b8c91b2",
        "outputId": "2293cc2a-d334-4dde-c626-9563963d023c"
      },
      "outputs": [
        {
          "name": "stdout",
          "output_type": "stream",
          "text": [
            "<class 'pandas.core.frame.DataFrame'>\n",
            "RangeIndex: 400 entries, 0 to 399\n",
            "Data columns (total 5 columns):\n",
            " #   Column           Non-Null Count  Dtype\n",
            "---  ------           --------------  -----\n",
            " 0   User ID          400 non-null    int64\n",
            " 1   Gender           400 non-null    int64\n",
            " 2   Age              400 non-null    int64\n",
            " 3   EstimatedSalary  400 non-null    int64\n",
            " 4   Purchased        400 non-null    int64\n",
            "dtypes: int64(5)\n",
            "memory usage: 15.8 KB\n"
          ]
        }
      ],
      "source": [
        "data.info()"
      ]
    },
    {
      "cell_type": "code",
      "execution_count": null,
      "id": "2a81f9b4",
      "metadata": {
        "id": "2a81f9b4",
        "outputId": "1043d804-e1bf-4b0c-906c-1dc3be3e6780"
      },
      "outputs": [
        {
          "data": {
            "text/plain": [
              "User ID            0\n",
              "Gender             0\n",
              "Age                0\n",
              "EstimatedSalary    0\n",
              "Purchased          0\n",
              "dtype: int64"
            ]
          },
          "execution_count": 14,
          "metadata": {},
          "output_type": "execute_result"
        }
      ],
      "source": [
        "data.isnull().sum()"
      ]
    },
    {
      "cell_type": "code",
      "execution_count": null,
      "id": "cb3d9f99",
      "metadata": {
        "id": "cb3d9f99",
        "outputId": "3677cd08-0a7c-4599-a592-ac693377eaad"
      },
      "outputs": [
        {
          "data": {
            "text/html": [
              "<div>\n",
              "<style scoped>\n",
              "    .dataframe tbody tr th:only-of-type {\n",
              "        vertical-align: middle;\n",
              "    }\n",
              "\n",
              "    .dataframe tbody tr th {\n",
              "        vertical-align: top;\n",
              "    }\n",
              "\n",
              "    .dataframe thead th {\n",
              "        text-align: right;\n",
              "    }\n",
              "</style>\n",
              "<table border=\"1\" class=\"dataframe\">\n",
              "  <thead>\n",
              "    <tr style=\"text-align: right;\">\n",
              "      <th></th>\n",
              "      <th>User ID</th>\n",
              "      <th>Gender</th>\n",
              "      <th>Age</th>\n",
              "      <th>EstimatedSalary</th>\n",
              "    </tr>\n",
              "    <tr>\n",
              "      <th>Purchased</th>\n",
              "      <th></th>\n",
              "      <th></th>\n",
              "      <th></th>\n",
              "      <th></th>\n",
              "    </tr>\n",
              "  </thead>\n",
              "  <tbody>\n",
              "    <tr>\n",
              "      <th>0</th>\n",
              "      <td>1.569116e+07</td>\n",
              "      <td>0.505837</td>\n",
              "      <td>32.793774</td>\n",
              "      <td>60544.747082</td>\n",
              "    </tr>\n",
              "    <tr>\n",
              "      <th>1</th>\n",
              "      <td>1.569222e+07</td>\n",
              "      <td>0.461538</td>\n",
              "      <td>46.391608</td>\n",
              "      <td>86272.727273</td>\n",
              "    </tr>\n",
              "  </tbody>\n",
              "</table>\n",
              "</div>"
            ],
            "text/plain": [
              "                User ID    Gender        Age  EstimatedSalary\n",
              "Purchased                                                    \n",
              "0          1.569116e+07  0.505837  32.793774     60544.747082\n",
              "1          1.569222e+07  0.461538  46.391608     86272.727273"
            ]
          },
          "execution_count": 13,
          "metadata": {},
          "output_type": "execute_result"
        }
      ],
      "source": [
        "# Employees that did not buy and those that bought\n",
        "\n",
        "left = data.groupby('Purchased')\n",
        "left.mean()"
      ]
    },
    {
      "cell_type": "markdown",
      "id": "530b8e7c",
      "metadata": {
        "id": "530b8e7c"
      },
      "source": [
        "## Data Visualization"
      ]
    },
    {
      "cell_type": "code",
      "execution_count": null,
      "id": "e14bb912",
      "metadata": {
        "id": "e14bb912",
        "outputId": "06cbdc52-1d4c-4afb-814c-9df82f858bf1"
      },
      "outputs": [
        {
          "data": {
            "text/html": [
              "<div>\n",
              "<style scoped>\n",
              "    .dataframe tbody tr th:only-of-type {\n",
              "        vertical-align: middle;\n",
              "    }\n",
              "\n",
              "    .dataframe tbody tr th {\n",
              "        vertical-align: top;\n",
              "    }\n",
              "\n",
              "    .dataframe thead th {\n",
              "        text-align: right;\n",
              "    }\n",
              "</style>\n",
              "<table border=\"1\" class=\"dataframe\">\n",
              "  <thead>\n",
              "    <tr style=\"text-align: right;\">\n",
              "      <th></th>\n",
              "      <th>User ID</th>\n",
              "      <th>Gender</th>\n",
              "      <th>Age</th>\n",
              "      <th>EstimatedSalary</th>\n",
              "    </tr>\n",
              "    <tr>\n",
              "      <th>Purchased</th>\n",
              "      <th></th>\n",
              "      <th></th>\n",
              "      <th></th>\n",
              "      <th></th>\n",
              "    </tr>\n",
              "  </thead>\n",
              "  <tbody>\n",
              "    <tr>\n",
              "      <th>0</th>\n",
              "      <td>257</td>\n",
              "      <td>257</td>\n",
              "      <td>257</td>\n",
              "      <td>257</td>\n",
              "    </tr>\n",
              "    <tr>\n",
              "      <th>1</th>\n",
              "      <td>143</td>\n",
              "      <td>143</td>\n",
              "      <td>143</td>\n",
              "      <td>143</td>\n",
              "    </tr>\n",
              "  </tbody>\n",
              "</table>\n",
              "</div>"
            ],
            "text/plain": [
              "           User ID  Gender  Age  EstimatedSalary\n",
              "Purchased                                       \n",
              "0              257     257  257              257\n",
              "1              143     143  143              143"
            ]
          },
          "execution_count": 15,
          "metadata": {},
          "output_type": "execute_result"
        }
      ],
      "source": [
        "# Users that purchased these ads\n",
        "\n",
        "left_count = left.count()\n",
        "left_count"
      ]
    },
    {
      "cell_type": "code",
      "execution_count": null,
      "id": "1188004e",
      "metadata": {
        "id": "1188004e",
        "outputId": "92c1a5af-4533-4f47-fcef-64105a0ed7be"
      },
      "outputs": [
        {
          "data": {
            "image/png": "[encoded data removed]",
            "text/plain": [
              "<Figure size 640x480 with 1 Axes>"
            ]
          },
          "metadata": {},
          "output_type": "display_data"
        }
      ],
      "source": [
        "# How many users were in each category?\n",
        "\n",
        "plt.bar(left_count.index.values, left_count['User ID'])\n",
        "plt.ylabel('Numbers of Users')\n",
        "plt.show()"
      ]
    },
    {
      "cell_type": "code",
      "execution_count": null,
      "id": "8617a68a",
      "metadata": {
        "id": "8617a68a",
        "outputId": "3fa411da-70d6-4169-a9d0-42cfb94f8583"
      },
      "outputs": [
        {
          "data": {
            "text/plain": [
              "35.75"
            ]
          },
          "execution_count": 21,
          "metadata": {},
          "output_type": "execute_result"
        }
      ],
      "source": [
        "# Ratio of users that did buy the ads were only 36%\n",
        "\n",
        "data.Purchased.value_counts()\n",
        "float(data.Purchased.value_counts()[1])/ len(data) * 100"
      ]
    },
    {
      "cell_type": "markdown",
      "id": "e4efba98",
      "metadata": {
        "id": "e4efba98"
      },
      "source": [
        "## Feature Engineering"
      ]
    },
    {
      "cell_type": "markdown",
      "id": "c871bd9d",
      "metadata": {
        "id": "c871bd9d"
      },
      "source": [
        "1. Using Age Category\n",
        "\n",
        "iGen[1-24], Millenials[24-39], GenX[40-54], BabyBoomers[55-73]\n"
      ]
    },
    {
      "cell_type": "code",
      "execution_count": null,
      "id": "0ec0e4fb",
      "metadata": {
        "id": "0ec0e4fb",
        "outputId": "8f121df5-a175-404c-d572-bd803adbddb7"
      },
      "outputs": [
        {
          "data": {
            "text/html": [
              "<div>\n",
              "<style scoped>\n",
              "    .dataframe tbody tr th:only-of-type {\n",
              "        vertical-align: middle;\n",
              "    }\n",
              "\n",
              "    .dataframe tbody tr th {\n",
              "        vertical-align: top;\n",
              "    }\n",
              "\n",
              "    .dataframe thead th {\n",
              "        text-align: right;\n",
              "    }\n",
              "</style>\n",
              "<table border=\"1\" class=\"dataframe\">\n",
              "  <thead>\n",
              "    <tr style=\"text-align: right;\">\n",
              "      <th></th>\n",
              "      <th>User ID</th>\n",
              "      <th>Gender</th>\n",
              "      <th>Age</th>\n",
              "      <th>EstimatedSalary</th>\n",
              "      <th>Purchased</th>\n",
              "      <th>Age Category</th>\n",
              "    </tr>\n",
              "  </thead>\n",
              "  <tbody>\n",
              "    <tr>\n",
              "      <th>0</th>\n",
              "      <td>15624510</td>\n",
              "      <td>1</td>\n",
              "      <td>19</td>\n",
              "      <td>19000</td>\n",
              "      <td>0</td>\n",
              "      <td>iGen</td>\n",
              "    </tr>\n",
              "    <tr>\n",
              "      <th>1</th>\n",
              "      <td>15810944</td>\n",
              "      <td>1</td>\n",
              "      <td>35</td>\n",
              "      <td>20000</td>\n",
              "      <td>0</td>\n",
              "      <td>Millenials</td>\n",
              "    </tr>\n",
              "    <tr>\n",
              "      <th>2</th>\n",
              "      <td>15668575</td>\n",
              "      <td>0</td>\n",
              "      <td>26</td>\n",
              "      <td>43000</td>\n",
              "      <td>0</td>\n",
              "      <td>Millenials</td>\n",
              "    </tr>\n",
              "    <tr>\n",
              "      <th>3</th>\n",
              "      <td>15603246</td>\n",
              "      <td>0</td>\n",
              "      <td>27</td>\n",
              "      <td>57000</td>\n",
              "      <td>0</td>\n",
              "      <td>Millenials</td>\n",
              "    </tr>\n",
              "    <tr>\n",
              "      <th>4</th>\n",
              "      <td>15804002</td>\n",
              "      <td>1</td>\n",
              "      <td>19</td>\n",
              "      <td>76000</td>\n",
              "      <td>0</td>\n",
              "      <td>iGen</td>\n",
              "    </tr>\n",
              "  </tbody>\n",
              "</table>\n",
              "</div>"
            ],
            "text/plain": [
              "    User ID  Gender  Age  EstimatedSalary  Purchased Age Category\n",
              "0  15624510       1   19            19000          0         iGen\n",
              "1  15810944       1   35            20000          0   Millenials\n",
              "2  15668575       0   26            43000          0   Millenials\n",
              "3  15603246       0   27            57000          0   Millenials\n",
              "4  15804002       1   19            76000          0         iGen"
            ]
          },
          "execution_count": 25,
          "metadata": {},
          "output_type": "execute_result"
        }
      ],
      "source": [
        "\n",
        "\n",
        "data['Age Category'] = ['iGen' if 0 < age < 25 else 'Millenials' if 24 < age < 40 else 'GenX' if 39 < age < 56 else 'BabyBoomers' if 55 < age < 74 else None\n",
        " for age in list(data['Age'].values)]\n",
        "data.head()"
      ]
    },
    {
      "cell_type": "markdown",
      "id": "c61e47c4",
      "metadata": {
        "id": "c61e47c4"
      },
      "source": [
        "2. Using an Income Category (Interquartile Ranges)"
      ]
    },
    {
      "cell_type": "code",
      "execution_count": null,
      "id": "62d89155",
      "metadata": {
        "id": "62d89155",
        "outputId": "cdb5b151-a156-4dc3-cf3b-57765176f94e"
      },
      "outputs": [
        {
          "data": {
            "text/html": [
              "<div>\n",
              "<style scoped>\n",
              "    .dataframe tbody tr th:only-of-type {\n",
              "        vertical-align: middle;\n",
              "    }\n",
              "\n",
              "    .dataframe tbody tr th {\n",
              "        vertical-align: top;\n",
              "    }\n",
              "\n",
              "    .dataframe thead th {\n",
              "        text-align: right;\n",
              "    }\n",
              "</style>\n",
              "<table border=\"1\" class=\"dataframe\">\n",
              "  <thead>\n",
              "    <tr style=\"text-align: right;\">\n",
              "      <th></th>\n",
              "      <th>User ID</th>\n",
              "      <th>Gender</th>\n",
              "      <th>Age</th>\n",
              "      <th>EstimatedSalary</th>\n",
              "      <th>Purchased</th>\n",
              "      <th>Age Category</th>\n",
              "      <th>Income Category</th>\n",
              "    </tr>\n",
              "  </thead>\n",
              "  <tbody>\n",
              "    <tr>\n",
              "      <th>0</th>\n",
              "      <td>15624510</td>\n",
              "      <td>1</td>\n",
              "      <td>19</td>\n",
              "      <td>19000</td>\n",
              "      <td>0</td>\n",
              "      <td>iGen</td>\n",
              "      <td>Low</td>\n",
              "    </tr>\n",
              "    <tr>\n",
              "      <th>1</th>\n",
              "      <td>15810944</td>\n",
              "      <td>1</td>\n",
              "      <td>35</td>\n",
              "      <td>20000</td>\n",
              "      <td>0</td>\n",
              "      <td>Millenials</td>\n",
              "      <td>Low</td>\n",
              "    </tr>\n",
              "    <tr>\n",
              "      <th>2</th>\n",
              "      <td>15668575</td>\n",
              "      <td>0</td>\n",
              "      <td>26</td>\n",
              "      <td>43000</td>\n",
              "      <td>0</td>\n",
              "      <td>Millenials</td>\n",
              "      <td>Low</td>\n",
              "    </tr>\n",
              "    <tr>\n",
              "      <th>3</th>\n",
              "      <td>15603246</td>\n",
              "      <td>0</td>\n",
              "      <td>27</td>\n",
              "      <td>57000</td>\n",
              "      <td>0</td>\n",
              "      <td>Millenials</td>\n",
              "      <td>Medium</td>\n",
              "    </tr>\n",
              "    <tr>\n",
              "      <th>4</th>\n",
              "      <td>15804002</td>\n",
              "      <td>1</td>\n",
              "      <td>19</td>\n",
              "      <td>76000</td>\n",
              "      <td>0</td>\n",
              "      <td>iGen</td>\n",
              "      <td>Medium</td>\n",
              "    </tr>\n",
              "  </tbody>\n",
              "</table>\n",
              "</div>"
            ],
            "text/plain": [
              "    User ID  Gender  Age  EstimatedSalary  Purchased Age Category  \\\n",
              "0  15624510       1   19            19000          0         iGen   \n",
              "1  15810944       1   35            20000          0   Millenials   \n",
              "2  15668575       0   26            43000          0   Millenials   \n",
              "3  15603246       0   27            57000          0   Millenials   \n",
              "4  15804002       1   19            76000          0         iGen   \n",
              "\n",
              "  Income Category  \n",
              "0             Low  \n",
              "1             Low  \n",
              "2             Low  \n",
              "3          Medium  \n",
              "4          Medium  "
            ]
          },
          "execution_count": 27,
          "metadata": {},
          "output_type": "execute_result"
        }
      ],
      "source": [
        "data['Income Category'] = pd.qcut(data['EstimatedSalary'], 3,labels = ['Low', 'Medium', 'High'])\n",
        "data.head()"
      ]
    },
    {
      "cell_type": "markdown",
      "id": "cc6df82a",
      "metadata": {
        "id": "cc6df82a"
      },
      "source": [
        "## Visuals"
      ]
    },
    {
      "cell_type": "code",
      "execution_count": null,
      "id": "9eddeed8",
      "metadata": {
        "id": "9eddeed8"
      },
      "outputs": [],
      "source": [
        "age_cat = data.groupby('Age Category').count()\n",
        "inc_cat = data.groupby('Income Category').count()"
      ]
    },
    {
      "cell_type": "code",
      "execution_count": null,
      "id": "d81d30d0",
      "metadata": {
        "id": "d81d30d0",
        "outputId": "dcfc6d85-0bcb-47d0-b12f-401364ccef63"
      },
      "outputs": [
        {
          "data": {
            "image/png": "[encoded data removed]",
            "text/plain": [
              "<Figure size 640x480 with 1 Axes>"
            ]
          },
          "metadata": {},
          "output_type": "display_data"
        }
      ],
      "source": [
        "plt.bar(age_cat.index.values, age_cat['Age'])\n",
        "plt.ylabel('Numbers of Users')\n",
        "plt.show()"
      ]
    },
    {
      "cell_type": "code",
      "execution_count": null,
      "id": "e9011647",
      "metadata": {
        "id": "e9011647",
        "outputId": "76ed4080-036f-4dd2-cd00-baa56304e538"
      },
      "outputs": [
        {
          "data": {
            "image/png": "[encoded data removed]",
            "text/plain": [
              "<Figure size 640x480 with 1 Axes>"
            ]
          },
          "metadata": {},
          "output_type": "display_data"
        }
      ],
      "source": [
        "plt.bar(inc_cat.index.values, inc_cat['Age'])\n",
        "plt.ylabel('Numbers of Users')\n",
        "plt.show()"
      ]
    },
    {
      "cell_type": "code",
      "execution_count": null,
      "id": "70d21126",
      "metadata": {
        "id": "70d21126"
      },
      "outputs": [],
      "source": [
        "# data[data['Income Category'] == 'High'].max()"
      ]
    },
    {
      "cell_type": "code",
      "execution_count": null,
      "id": "004d6091",
      "metadata": {
        "id": "004d6091",
        "outputId": "88d1c206-86b8-4891-f4da-af17cbb8e4e0"
      },
      "outputs": [
        {
          "name": "stderr",
          "output_type": "stream",
          "text": [
            "C:\\Users\\DELL\\AppData\\Local\\Temp\\ipykernel_12924\\2507587161.py:6: MatplotlibDeprecationWarning: Auto-removal of overlapping axes is deprecated since 3.6 and will be removed two minor releases later; explicitly call ax.remove() as needed.\n",
            "  plt.subplot(4, 2, i+1)\n"
          ]
        },
        {
          "data": {
            "image/png": "[encoded data removed]",
            "text/plain": [
              "<Figure size 1000x1500 with 3 Axes>"
            ]
          },
          "metadata": {},
          "output_type": "display_data"
        }
      ],
      "source": [
        "# What's the statistics based on those who did not make purchase?\n",
        "\n",
        "features = ['Gender', 'Age Category', 'Income Category']\n",
        "fig = plt.subplots(figsize = (10,15))\n",
        "for i, j in enumerate (features):\n",
        "    plt.subplot(4, 2, i+1)\n",
        "    plt.subplots_adjust(hspace = 1.0)\n",
        "    sns.countplot(x = j, data = data, hue = 'Purchased')\n",
        "    plt.xticks(rotation = 90)\n",
        "    plt.title('Number of Employee')"
      ]
    },
    {
      "cell_type": "markdown",
      "id": "d4eabd12",
      "metadata": {
        "id": "d4eabd12"
      },
      "source": [
        "## Model building"
      ]
    },
    {
      "cell_type": "code",
      "execution_count": null,
      "id": "69b6160e",
      "metadata": {
        "id": "69b6160e",
        "outputId": "0f3faced-ab68-4518-f2c2-cead243a5596"
      },
      "outputs": [
        {
          "data": {
            "text/plain": [
              "Index(['User ID', 'Gender', 'Age', 'EstimatedSalary', 'Purchased',\n",
              "       'Age Category', 'Income Category'],\n",
              "      dtype='object')"
            ]
          },
          "execution_count": 36,
          "metadata": {},
          "output_type": "execute_result"
        }
      ],
      "source": [
        "data.columns"
      ]
    },
    {
      "cell_type": "code",
      "execution_count": null,
      "id": "bb628d83",
      "metadata": {
        "id": "bb628d83"
      },
      "outputs": [],
      "source": [
        "# Split data into features and target\n",
        "\n",
        "x = data[['Gender', 'Age', 'EstimatedSalary']]\n",
        "y = data['Purchased']"
      ]
    },
    {
      "cell_type": "code",
      "execution_count": null,
      "id": "bb25ac70",
      "metadata": {
        "id": "bb25ac70"
      },
      "outputs": [],
      "source": [
        "# train_test_split\n",
        "\n",
        "from sklearn.model_selection import train_test_split\n",
        "\n",
        "x_train, x_test, y_train, y_test = train_test_split(x, y, test_size = 0.3, random_state = 42)"
      ]
    },
    {
      "cell_type": "markdown",
      "id": "c4cb05dd",
      "metadata": {
        "id": "c4cb05dd"
      },
      "source": [
        "# ALGORITHM/MODEL 1: NAIVE BAYES"
      ]
    },
    {
      "cell_type": "code",
      "execution_count": null,
      "id": "1ad64566",
      "metadata": {
        "id": "1ad64566",
        "outputId": "626164e7-87bb-4288-c447-4ee648d0cdbd"
      },
      "outputs": [
        {
          "data": {
            "text/html": [
              "<style>#sk-container-id-1 {color: black;}#sk-container-id-1 pre{padding: 0;}#sk-container-id-1 div.sk-toggleable {background-color: white;}#sk-container-id-1 label.sk-toggleable__label {cursor: pointer;display: block;width: 100%;margin-bottom: 0;padding: 0.3em;box-sizing: border-box;text-align: center;}#sk-container-id-1 label.sk-toggleable__label-arrow:before {content: \"▸\";float: left;margin-right: 0.25em;color: #696969;}#sk-container-id-1 label.sk-toggleable__label-arrow:hover:before {color: black;}#sk-container-id-1 div.sk-estimator:hover label.sk-toggleable__label-arrow:before {color: black;}#sk-container-id-1 div.sk-toggleable__content {max-height: 0;max-width: 0;overflow: hidden;text-align: left;background-color: #f0f8ff;}#sk-container-id-1 div.sk-toggleable__content pre {margin: 0.2em;color: black;border-radius: 0.25em;background-color: #f0f8ff;}#sk-container-id-1 input.sk-toggleable__control:checked~div.sk-toggleable__content {max-height: 200px;max-width: 100%;overflow: auto;}#sk-container-id-1 input.sk-toggleable__control:checked~label.sk-toggleable__label-arrow:before {content: \"▾\";}#sk-container-id-1 div.sk-estimator input.sk-toggleable__control:checked~label.sk-toggleable__label {background-color: #d4ebff;}#sk-container-id-1 div.sk-label input.sk-toggleable__control:checked~label.sk-toggleable__label {background-color: #d4ebff;}#sk-container-id-1 input.sk-hidden--visually {border: 0;clip: rect(1px 1px 1px 1px);clip: rect(1px, 1px, 1px, 1px);height: 1px;margin: -1px;overflow: hidden;padding: 0;position: absolute;width: 1px;}#sk-container-id-1 div.sk-estimator {font-family: monospace;background-color: #f0f8ff;border: 1px dotted black;border-radius: 0.25em;box-sizing: border-box;margin-bottom: 0.5em;}#sk-container-id-1 div.sk-estimator:hover {background-color: #d4ebff;}#sk-container-id-1 div.sk-parallel-item::after {content: \"\";width: 100%;border-bottom: 1px solid gray;flex-grow: 1;}#sk-container-id-1 div.sk-label:hover label.sk-toggleable__label {background-color: #d4ebff;}#sk-container-id-1 div.sk-serial::before {content: \"\";position: absolute;border-left: 1px solid gray;box-sizing: border-box;top: 0;bottom: 0;left: 50%;z-index: 0;}#sk-container-id-1 div.sk-serial {display: flex;flex-direction: column;align-items: center;background-color: white;padding-right: 0.2em;padding-left: 0.2em;position: relative;}#sk-container-id-1 div.sk-item {position: relative;z-index: 1;}#sk-container-id-1 div.sk-parallel {display: flex;align-items: stretch;justify-content: center;background-color: white;position: relative;}#sk-container-id-1 div.sk-item::before, #sk-container-id-1 div.sk-parallel-item::before {content: \"\";position: absolute;border-left: 1px solid gray;box-sizing: border-box;top: 0;bottom: 0;left: 50%;z-index: -1;}#sk-container-id-1 div.sk-parallel-item {display: flex;flex-direction: column;z-index: 1;position: relative;background-color: white;}#sk-container-id-1 div.sk-parallel-item:first-child::after {align-self: flex-end;width: 50%;}#sk-container-id-1 div.sk-parallel-item:last-child::after {align-self: flex-start;width: 50%;}#sk-container-id-1 div.sk-parallel-item:only-child::after {width: 0;}#sk-container-id-1 div.sk-dashed-wrapped {border: 1px dashed gray;margin: 0 0.4em 0.5em 0.4em;box-sizing: border-box;padding-bottom: 0.4em;background-color: white;}#sk-container-id-1 div.sk-label label {font-family: monospace;font-weight: bold;display: inline-block;line-height: 1.2em;}#sk-container-id-1 div.sk-label-container {text-align: center;}#sk-container-id-1 div.sk-container {/* jupyter's `normalize.less` sets `[hidden] { display: none; }` but bootstrap.min.css set `[hidden] { display: none !important; }` so we also need the `!important` here to be able to override the default hidden behavior on the sphinx rendered scikit-learn.org. See: https://github.com/scikit-learn/scikit-learn/issues/21755 */display: inline-block !important;position: relative;}#sk-container-id-1 div.sk-text-repr-fallback {display: none;}</style><div id=\"sk-container-id-1\" class=\"sk-top-container\"><div class=\"sk-text-repr-fallback\"><pre>GaussianNB()</pre><b>In a Jupyter environment, please rerun this cell to show the HTML representation or trust the notebook. <br />On GitHub, the HTML representation is unable to render, please try loading this page with nbviewer.org.</b></div><div class=\"sk-container\" hidden><div class=\"sk-item\"><div class=\"sk-estimator sk-toggleable\"><input class=\"sk-toggleable__control sk-hidden--visually\" id=\"sk-estimator-id-1\" type=\"checkbox\" checked><label for=\"sk-estimator-id-1\" class=\"sk-toggleable__label sk-toggleable__label-arrow\">GaussianNB</label><div class=\"sk-toggleable__content\"><pre>GaussianNB()</pre></div></div></div></div></div>"
            ],
            "text/plain": [
              "GaussianNB()"
            ]
          },
          "execution_count": 43,
          "metadata": {},
          "output_type": "execute_result"
        }
      ],
      "source": [
        "# Filling Naive Bayes to the training set\n",
        "\n",
        "from sklearn.naive_bayes import GaussianNB\n",
        "classifier = GaussianNB()\n",
        "classifier.fit(x_train, y_train)"
      ]
    },
    {
      "cell_type": "code",
      "execution_count": null,
      "id": "37d3c2a5",
      "metadata": {
        "id": "37d3c2a5"
      },
      "outputs": [],
      "source": [
        "# Predicting the test set results\n",
        "\n",
        "y_pred = classifier.predict(x_test)"
      ]
    },
    {
      "cell_type": "code",
      "execution_count": null,
      "id": "3941d489",
      "metadata": {
        "id": "3941d489",
        "outputId": "f29aa108-c6d4-4879-f78b-572cce7dbfb6"
      },
      "outputs": [
        {
          "name": "stdout",
          "output_type": "stream",
          "text": [
            "Accuracy:  0.925\n",
            "Precision:  0.975\n",
            "Recall:  0.8297872340425532\n"
          ]
        }
      ],
      "source": [
        "# Evaluating performance: Accuracy, Precision, Recall\n",
        "\n",
        "from sklearn import metrics\n",
        "\n",
        "print('Accuracy: ', metrics.accuracy_score(y_test, y_pred))\n",
        "print('Precision: ', metrics.precision_score(y_test, y_pred))\n",
        "print('Recall: ', metrics.recall_score(y_test, y_pred))"
      ]
    },
    {
      "cell_type": "code",
      "execution_count": null,
      "id": "0f1f57d3",
      "metadata": {
        "id": "0f1f57d3",
        "outputId": "d5accd0c-7b6f-4c24-c6e4-81aaba7d62c1"
      },
      "outputs": [
        {
          "name": "stdout",
          "output_type": "stream",
          "text": [
            "ROC AUC 0.9080443019527833\n"
          ]
        }
      ],
      "source": [
        "# Calculate ROC curve\n",
        "\n",
        "from sklearn.metrics import roc_curve, auc\n",
        "\n",
        "fpr,tpr, thresholds = roc_curve(y_test, y_pred)\n",
        "roc_auc = auc(fpr, tpr)\n",
        "print('ROC AUC', roc_auc)"
      ]
    },
    {
      "cell_type": "code",
      "execution_count": null,
      "id": "8e592472",
      "metadata": {
        "id": "8e592472",
        "outputId": "922e4f2e-137b-46b8-924a-4093a3b746cc"
      },
      "outputs": [
        {
          "data": {
            "image/png": "[encoded data removed]",
            "text/plain": [
              "<Figure size 480x480 with 2 Axes>"
            ]
          },
          "metadata": {},
          "output_type": "display_data"
        }
      ],
      "source": [
        "# Plot Confusion matrix\n",
        "\n",
        "def conftable(test, pred, imagename):\n",
        "    confmatrix = metrics.confusion_matrix(y_test, y_pred)\n",
        "    plt.matshow(confmatrix)\n",
        "    plt.title('Confusion matrix')\n",
        "    plt.colorbar()\n",
        "    plt.ylabel('Ground Truth')\n",
        "    plt.xlabel('Predicted')\n",
        "    plt.savefig(imagename)\n",
        "    plt.show()\n",
        "\n",
        "conftable(y_test, y_pred, 'confusion_matrix.png')"
      ]
    }
  ],
  "metadata": {
    "kernelspec": {
      "display_name": "Python 3 (ipykernel)",
      "language": "python",
      "name": "python3"
    },
    "language_info": {
      "codemirror_mode": {
        "name": "ipython",
        "version": 3
      },
      "file_extension": ".py",
      "mimetype": "text/x-python",
      "name": "python",
      "nbconvert_exporter": "python",
      "pygments_lexer": "ipython3",
      "version": "3.11.5"
    },
    "colab": {
      "provenance": [],
      "include_colab_link": true
    }
  },
  "nbformat": 4,
  "nbformat_minor": 5
}